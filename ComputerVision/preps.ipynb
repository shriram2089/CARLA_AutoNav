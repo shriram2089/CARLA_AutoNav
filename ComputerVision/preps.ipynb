{
 "cells": [
  {
   "cell_type": "markdown",
   "metadata": {},
   "source": [
    "This section is to explore options how we generate training images for \n",
    "blending GPS and visual navigation, it goes through example how we can get\n",
    "information abot the lane we are in, intersections"
   ]
  },
  {
   "cell_type": "code",
   "execution_count": 1,
   "metadata": {
    "tags": []
   },
   "outputs": [],
   "source": [
    "#all imports\n",
    "import carla #the sim library itself\n",
    "import time # to set a delay after each photo\n",
    "import cv2 #to work with images from cameras\n",
    "import numpy as np #in this example to change image representation - re-shaping\n",
    "import math\n",
    "import sys\n",
    "import random\n",
    "\n",
    "# connect to the sim \n",
    "client = carla.Client('localhost', 2000)"
   ]
  },
  {
   "cell_type": "code",
   "execution_count": 2,
   "metadata": {
    "tags": []
   },
   "outputs": [],
   "source": [
    "# start a car\n",
    "world = client.get_world()\n",
    "spawn_points = world.get_map().get_spawn_points()\n",
    "#look for a blueprint of Mini car\n",
    "vehicle_bp = world.get_blueprint_library().filter('*model3*')\n",
    "\n",
    "start_point = spawn_points[0]\n",
    "vehicle = world.try_spawn_actor(vehicle_bp[0], start_point)"
   ]
  },
  {
   "cell_type": "code",
   "execution_count": 3,
   "metadata": {
    "tags": []
   },
   "outputs": [
    {
     "name": "stdout",
     "output_type": "stream",
     "text": [
      "Transform(Location(x=-64.644844, y=24.471010, z=-0.005902), Rotation(pitch=0.000000, yaw=0.159198, roll=0.000000))\n"
     ]
    }
   ],
   "source": [
    "# get actual position from the car \n",
    "vehicle_pos = vehicle.get_transform()\n",
    "print(vehicle_pos)"
   ]
  },
  {
   "cell_type": "code",
   "execution_count": 4,
   "metadata": {
    "tags": []
   },
   "outputs": [],
   "source": [
    "# get map look at the map\n",
    "town_map = world.get_map()\n",
    "roads = town_map.get_topology()"
   ]
  },
  {
   "cell_type": "code",
   "execution_count": 6,
   "metadata": {
    "tags": []
   },
   "outputs": [],
   "source": [
    "# make a route like in Tutorial 3\n",
    "sys.path.append('E:/CARLA/PythonAPI/carla') # tweak to where you put carla\n",
    "from agents.navigation.global_route_planner import GlobalRoutePlanner\n",
    "\n",
    "point_a = start_point.location #we start at where the car is\n",
    "\n",
    "sampling_resolution = 1\n",
    "grp = GlobalRoutePlanner(world.get_map(), sampling_resolution)\n",
    "\n",
    "# now let' pick the longest possible route\n",
    "distance = 0\n",
    "for loc in spawn_points: # we start trying all spawn points \n",
    "                            #but we just exclude first at zero index\n",
    "    cur_route = grp.trace_route(point_a, loc.location)\n",
    "    if len(cur_route)>distance:\n",
    "        distance = len(cur_route)\n",
    "        route = cur_route\n",
    "#draw the route in sim window - Note it does not get into the camera of the car\n",
    "for waypoint in route:\n",
    "    world.debug.draw_string(waypoint[0].transform.location, '^', draw_shadow=False,\n",
    "        color=carla.Color(r=0, g=0, b=255), life_time=60.0,\n",
    "        persistent_lines=True)"
   ]
  },
  {
   "cell_type": "code",
   "execution_count": 7,
   "metadata": {
    "tags": []
   },
   "outputs": [
    {
     "name": "stdout",
     "output_type": "stream",
     "text": [
      "Driving\n"
     ]
    }
   ],
   "source": [
    "# how we access lane info from waypoints\n",
    "example_waypoint = route[0][0]\n",
    "print(example_waypoint.lane_type)"
   ]
  },
  {
   "cell_type": "code",
   "execution_count": 8,
   "metadata": {
    "tags": []
   },
   "outputs": [],
   "source": [
    "#explore lane and junction info available for waypoints\n",
    "example_junction = example_waypoint.get_junction()"
   ]
  },
  {
   "cell_type": "code",
   "execution_count": 9,
   "metadata": {
    "tags": []
   },
   "outputs": [],
   "source": [
    "# show where the junction is - it should draw letter J in the center of intersection in front of the car\n",
    "world.debug.draw_string(example_junction.bounding_box.location, 'J', draw_shadow=False,\n",
    "        color=carla.Color(r=0, g=0, b=255), life_time=60.0,\n",
    "        persistent_lines=True)"
   ]
  },
  {
   "cell_type": "code",
   "execution_count": 10,
   "metadata": {
    "tags": []
   },
   "outputs": [
    {
     "name": "stdout",
     "output_type": "stream",
     "text": [
      "None None\n"
     ]
    }
   ],
   "source": [
    "#checking lanes left and right - returns None for both\n",
    "# I thought there should be right lane... never mind\n",
    "example_left_lane = example_waypoint.get_left_lane()\n",
    "example_right_lane = example_waypoint.get_right_lane()\n",
    "print(example_left_lane,example_right_lane)"
   ]
  },
  {
   "cell_type": "code",
   "execution_count": 11,
   "metadata": {
    "tags": []
   },
   "outputs": [
    {
     "data": {
      "text/plain": [
       "True"
      ]
     },
     "execution_count": 11,
     "metadata": {},
     "output_type": "execute_result"
    }
   ],
   "source": [
    "# checking if our waypoint is intersection - True\n",
    "# that must expian why we do not get right lane here\n",
    "example_waypoint.is_intersection"
   ]
  },
  {
   "cell_type": "code",
   "execution_count": 12,
   "metadata": {
    "tags": []
   },
   "outputs": [
    {
     "data": {
      "text/plain": [
       "True"
      ]
     },
     "execution_count": 12,
     "metadata": {},
     "output_type": "execute_result"
    }
   ],
   "source": [
    "# our waypoint is a junction too, not sure what \n",
    "#the difference is between junction and intersection\n",
    "example_waypoint.is_junction"
   ]
  },
  {
   "cell_type": "code",
   "execution_count": 13,
   "metadata": {
    "tags": []
   },
   "outputs": [
    {
     "name": "stdout",
     "output_type": "stream",
     "text": [
      "Right\n"
     ]
    }
   ],
   "source": [
    "# checking lane change - it is Right, \n",
    "# meaning a change to the right is possible\n",
    "print(example_waypoint.lane_change)"
   ]
  },
  {
   "cell_type": "code",
   "execution_count": 14,
   "metadata": {
    "tags": []
   },
   "outputs": [
    {
     "data": {
      "text/plain": [
       "carla.libcarla.LaneType.Driving"
      ]
     },
     "execution_count": 14,
     "metadata": {},
     "output_type": "execute_result"
    }
   ],
   "source": [
    "# lane type is Driving as expected\n",
    "example_waypoint.lane_type"
   ]
  },
  {
   "cell_type": "code",
   "execution_count": 15,
   "metadata": {
    "tags": []
   },
   "outputs": [
    {
     "data": {
      "text/plain": [
       "3.5"
      ]
     },
     "execution_count": 15,
     "metadata": {},
     "output_type": "execute_result"
    }
   ],
   "source": [
    "# lane width is 3.5\n",
    "example_waypoint.lane_width"
   ]
  },
  {
   "cell_type": "code",
   "execution_count": 16,
   "metadata": {
    "tags": []
   },
   "outputs": [
    {
     "data": {
      "text/plain": [
       "carla.libcarla.LaneMarkingType.Solid"
      ]
     },
     "execution_count": 16,
     "metadata": {},
     "output_type": "execute_result"
    }
   ],
   "source": [
    "example_waypoint.left_lane_marking.type"
   ]
  },
  {
   "cell_type": "code",
   "execution_count": 17,
   "metadata": {
    "tags": []
   },
   "outputs": [
    {
     "data": {
      "text/plain": [
       "carla.libcarla.LaneMarkingColor.Yellow"
      ]
     },
     "execution_count": 17,
     "metadata": {},
     "output_type": "execute_result"
    }
   ],
   "source": [
    "example_waypoint.left_lane_marking.color"
   ]
  },
  {
   "cell_type": "code",
   "execution_count": 18,
   "metadata": {
    "tags": []
   },
   "outputs": [
    {
     "data": {
      "text/plain": [
       "0.125"
      ]
     },
     "execution_count": 18,
     "metadata": {},
     "output_type": "execute_result"
    }
   ],
   "source": [
    "# lane marking width\n",
    "example_waypoint.left_lane_marking.width"
   ]
  },
  {
   "cell_type": "code",
   "execution_count": 19,
   "metadata": {
    "tags": []
   },
   "outputs": [
    {
     "data": {
      "text/plain": [
       "carla.libcarla.LaneMarkingType.NONE"
      ]
     },
     "execution_count": 19,
     "metadata": {},
     "output_type": "execute_result"
    }
   ],
   "source": [
    "# interesting right lane marking type is empty/None\n",
    "# I would expect a value \"Dotted\" but ok\n",
    "example_waypoint.right_lane_marking.type"
   ]
  },
  {
   "cell_type": "code",
   "execution_count": 37,
   "metadata": {
    "tags": []
   },
   "outputs": [],
   "source": [
    "cv2.destroyAllWindows()\n",
    "camera.stop()\n",
    "for sensor in world.get_actors().filter('*sensor*'):\n",
    "    sensor.destroy()\n",
    "for actor in world.get_actors().filter('*vehicle*'):\n",
    "    actor.destroy()"
   ]
  },
  {
   "cell_type": "code",
   "execution_count": 21,
   "metadata": {
    "tags": []
   },
   "outputs": [
    {
     "ename": "KeyboardInterrupt",
     "evalue": "",
     "output_type": "error",
     "traceback": [
      "\u001b[1;31m---------------------------------------------------------------------------\u001b[0m",
      "\u001b[1;31mKeyboardInterrupt\u001b[0m                         Traceback (most recent call last)",
      "\u001b[1;32m~\\AppData\\Local\\Temp\\ipykernel_8468\\1600342510.py\u001b[0m in \u001b[0;36m<module>\u001b[1;34m\u001b[0m\n\u001b[0;32m    209\u001b[0m     \u001b[1;32mwhile\u001b[0m \u001b[0mcurr_wp\u001b[0m\u001b[1;33m<\u001b[0m\u001b[0mlen\u001b[0m\u001b[1;33m(\u001b[0m\u001b[0mroute\u001b[0m\u001b[1;33m)\u001b[0m\u001b[1;33m-\u001b[0m\u001b[1;36m1\u001b[0m\u001b[1;33m:\u001b[0m\u001b[1;33m\u001b[0m\u001b[1;33m\u001b[0m\u001b[0m\n\u001b[0;32m    210\u001b[0m         \u001b[1;31m# Carla Tick\u001b[0m\u001b[1;33m\u001b[0m\u001b[1;33m\u001b[0m\u001b[1;33m\u001b[0m\u001b[0m\n\u001b[1;32m--> 211\u001b[1;33m         \u001b[0mworld\u001b[0m\u001b[1;33m.\u001b[0m\u001b[0mtick\u001b[0m\u001b[1;33m(\u001b[0m\u001b[1;33m)\u001b[0m\u001b[1;33m\u001b[0m\u001b[1;33m\u001b[0m\u001b[0m\n\u001b[0m\u001b[0;32m    212\u001b[0m         \u001b[0mdraw_route\u001b[0m\u001b[1;33m(\u001b[0m\u001b[0mcurr_wp\u001b[0m\u001b[1;33m,\u001b[0m \u001b[0mroute\u001b[0m\u001b[1;33m,\u001b[0m\u001b[1;36m1\u001b[0m\u001b[1;33m)\u001b[0m\u001b[1;33m\u001b[0m\u001b[1;33m\u001b[0m\u001b[0m\n\u001b[0;32m    213\u001b[0m         \u001b[1;32mif\u001b[0m \u001b[0mcv2\u001b[0m\u001b[1;33m.\u001b[0m\u001b[0mwaitKey\u001b[0m\u001b[1;33m(\u001b[0m\u001b[1;36m1\u001b[0m\u001b[1;33m)\u001b[0m \u001b[1;33m==\u001b[0m \u001b[0mord\u001b[0m\u001b[1;33m(\u001b[0m\u001b[1;34m'q'\u001b[0m\u001b[1;33m)\u001b[0m\u001b[1;33m:\u001b[0m\u001b[1;33m\u001b[0m\u001b[1;33m\u001b[0m\u001b[0m\n",
      "\u001b[1;31mKeyboardInterrupt\u001b[0m: "
     ]
    }
   ],
   "source": [
    "# finally, I got a brainwave how to make GPS and Visual happen\n",
    "# Modifying previous Tutorial 4 code so the camera view shows \n",
    "# a direction/angle to a waypoint some distance away\n",
    "# It is like saying \"we will take left as soon as we can\"\n",
    "# so even we still need to go straight for a bit, we will get\n",
    "# a new direction we will need to take as soon as we can\n",
    "\n",
    "# Try running this to see what I mean - pay attention to car's camera\n",
    "# You will see how General Direction angle gives \"Advance heads-up\"\n",
    "# what we will need to be doing next\n",
    "\n",
    "#clean up\n",
    "for actor in world.get_actors().filter('*vehicle*'):\n",
    "    actor.destroy()\n",
    "\n",
    "SPEED_THRESHOLD = 2 #defines when we get close to desired speed so we drop the\n",
    "\n",
    "# Max steering angle\n",
    "MAX_STEER_DEGREES = 40\n",
    "# This is max actual angle with Mini under steering input=1.0\n",
    "STEERING_CONVERSION = 75\n",
    "\n",
    "#camera mount offset on the car - you can tweak these to have the car in view or not\n",
    "CAMERA_POS_Z = 3 \n",
    "CAMERA_POS_X = -5 \n",
    "\n",
    "#adding params to display text to image\n",
    "font = cv2.FONT_HERSHEY_SIMPLEX\n",
    "# org - defining lines to display telemetry values on the screen\n",
    "org = (30, 30) # this line will be used to show current speed\n",
    "org2 = (30, 50) # this line will be used for future steering angle\n",
    "org3 = (30, 70) # and another line for future telemetry outputs\n",
    "org4 = (30, 90) # and another line for future telemetry outputs\n",
    "org3 = (30, 110) # and another line for future telemetry outputs\n",
    "fontScale = 0.5\n",
    "# white color\n",
    "color = (255, 255, 255)\n",
    "# Line thickness of 2 px\n",
    "thickness = 1\n",
    "\n",
    "# utility function for camera listening \n",
    "def camera_callback(image,data_dict):\n",
    "    data_dict['image'] = np.reshape(np.copy(image.raw_data),(image.height,image.width,4))\n",
    "\n",
    "# maintain speed function\n",
    "def maintain_speed(s):\n",
    "    ''' \n",
    "    this is a very simple function to maintan desired speed\n",
    "    s arg is actual current speed\n",
    "    '''\n",
    "    if s >= PREFERRED_SPEED:\n",
    "        return 0\n",
    "    elif s < PREFERRED_SPEED - SPEED_THRESHOLD:\n",
    "        return 0.9 # think of it as % of \"full gas\"\n",
    "    else:\n",
    "        return 0.4 # tweak this if the car is way over or under preferred speed \n",
    "\n",
    "\n",
    "# function to get angle between the car and target waypoint\n",
    "def get_angle(car,wp):\n",
    "    '''\n",
    "    this function returns degrees between the car's direction \n",
    "    and direction to a selected waypoint\n",
    "    '''\n",
    "    vehicle_pos = car.get_transform()\n",
    "    car_x = vehicle_pos.location.x\n",
    "    car_y = vehicle_pos.location.y\n",
    "    wp_x = wp.transform.location.x\n",
    "    wp_y = wp.transform.location.y\n",
    "    \n",
    "    # vector to waypoint\n",
    "    x = (wp_x - car_x)/((wp_y - car_y)**2 + (wp_x - car_x)**2)**0.5\n",
    "    y = (wp_y - car_y)/((wp_y - car_y)**2 + (wp_x - car_x)**2)**0.5\n",
    "    \n",
    "    #car vector\n",
    "    car_vector = vehicle_pos.get_forward_vector()\n",
    "    degrees = math.degrees(np.arctan2(y, x) - np.arctan2(car_vector.y, car_vector.x))\n",
    "    # extra checks on predicted angle when values close to 360 degrees are returned\n",
    "    if degrees<-180:\n",
    "        degrees = degrees + 360\n",
    "    elif degrees > 180:\n",
    "        degrees = degrees - 360\n",
    "    return degrees\n",
    "\n",
    "def get_proper_angle(car,wp_idx,rte):\n",
    "    '''\n",
    "    This function uses simple fuction above to get angle but for current\n",
    "    waypoint and a few more next waypoints to ensure we have not skipped\n",
    "    next waypoint so we avoid the car trying to turn back\n",
    "    '''\n",
    "    # create a list of angles to next 5 waypoints starting with current\n",
    "    next_angle_list = []\n",
    "    for i in range(10):\n",
    "        if wp_idx + i*3 <len(rte)-1:\n",
    "            next_angle_list.append(get_angle(car,rte[wp_idx + i*3][0]))\n",
    "    idx = 0\n",
    "    while idx<len(next_angle_list)-2 and abs(next_angle_list[idx])>40:\n",
    "        idx +=1\n",
    "    return wp_idx+idx*3,next_angle_list[idx]  \n",
    "\n",
    "def get_distant_angle(car,wp_idx,rte, delta):\n",
    "    '''\n",
    "    This function modifies the fuction above to get angle to a waypoint\n",
    "    at a distance so we could use it for training image generation\n",
    "    \n",
    "    We will display the angle for now in the 'telemetry' view so\n",
    "    we could play with how far forward we need to pick the waypoint\n",
    "    '''\n",
    "    if wp_idx + delta < len(rte)-1:\n",
    "        i = wp_idx + delta\n",
    "    else:\n",
    "        i = len(rte)-1\n",
    "    # check for intersection within the \"look forward\"\n",
    "    # so we do not give turn results when just following the road\n",
    "    intersection_detected = False\n",
    "    for x in range(i-wp_idx):\n",
    "        if rte[wp_idx+x][0].is_junction:\n",
    "             intersection_detected = True\n",
    "    angle = get_angle(car,rte[i][0])\n",
    "    if not intersection_detected:\n",
    "        result = 0\n",
    "    elif angle <-10:\n",
    "        result = -1\n",
    "    elif angle>10:\n",
    "        result =1\n",
    "    else:\n",
    "        result = 0    \n",
    "    return result\n",
    "\n",
    "def draw_route(wp, route,seconds=3.0):\n",
    "    #draw the next few points route in sim window - Note it does not\n",
    "    # get into the camera of the car\n",
    "    if len(route)-wp <25: # route within 25 points from end is red\n",
    "        draw_colour = carla.Color(r=255, g=0, b=0)\n",
    "    else:\n",
    "        draw_colour = carla.Color(r=0, g=0, b=255)\n",
    "    for i in range(10):\n",
    "        if wp+i<len(route)-2:\n",
    "            world.debug.draw_string(route[wp+i][0].transform.location, '^', draw_shadow=False,\n",
    "                color=draw_colour, life_time=seconds,\n",
    "                persistent_lines=True)\n",
    "    return None\n",
    "\n",
    "\n",
    "def select_random_route(position,locs):\n",
    "    '''\n",
    "    retruns a random route for the car/veh\n",
    "    out of the list of possible locations locs\n",
    "    where distance is longer than 100 waypoints\n",
    "    '''    \n",
    "    point_a = position.location #we start at where the car is or last waypoint\n",
    "    sampling_resolution = 1\n",
    "    grp = GlobalRoutePlanner(world.get_map(), sampling_resolution)\n",
    "    # now let' pick the longest possible route\n",
    "    min_distance = 100\n",
    "    result_route = None\n",
    "    route_list = []\n",
    "    for loc in locs: # we start trying all spawn points \n",
    "                                #but we just exclude first at zero index\n",
    "        cur_route = grp.trace_route(point_a, loc.location)\n",
    "        if len(cur_route) > min_distance:\n",
    "            route_list.append(cur_route)\n",
    "    result_route = random.choice(route_list)\n",
    "    return result_route\n",
    "\n",
    "world = client.get_world()\n",
    "spawn_points = world.get_map().get_spawn_points()\n",
    "#look for a blueprint of Tesla m3 car\n",
    "vehicle_bp = world.get_blueprint_library().filter('*model3*')\n",
    "\n",
    "def exit_clean():\n",
    "    #clean up\n",
    "    cv2.destroyAllWindows()\n",
    "    camera.stop()\n",
    "    for sensor in world.get_actors().filter('*sensor*'):\n",
    "        sensor.destroy()\n",
    "    for actor in world.get_actors().filter('*vehicle*'):\n",
    "        actor.destroy()\n",
    "    return None\n",
    "\n",
    "\n",
    "#main loop\n",
    "\n",
    "quit = False\n",
    "while True:\n",
    "    start_point = random.choice(spawn_points)\n",
    "    vehicle = world.try_spawn_actor(vehicle_bp[0], start_point)\n",
    "    time.sleep(2)\n",
    "    #setting RGB Camera - this follow the approach explained in a Carla video\n",
    "    camera_bp = world.get_blueprint_library().find('sensor.camera.rgb')\n",
    "    camera_bp.set_attribute('image_size_x', '640') # this ratio works in CARLA 9.14 on Windows\n",
    "    camera_bp.set_attribute('image_size_y', '360')\n",
    "    camera_init_trans = carla.Transform(carla.Location(z=CAMERA_POS_Z,x=CAMERA_POS_X))\n",
    "    #this creates the camera in the sim\n",
    "    camera = world.spawn_actor(camera_bp,camera_init_trans,attach_to=vehicle)\n",
    "    image_w = camera_bp.get_attribute('image_size_x').as_int()\n",
    "    image_h = camera_bp.get_attribute('image_size_y').as_int()\n",
    "    camera_data = {'image': np.zeros((image_h,image_w,4))}\n",
    "    # this actually opens a live stream from the camera\n",
    "    camera.listen(lambda image: camera_callback(image,camera_data))\n",
    "    cv2.namedWindow('RGB Camera',cv2.WINDOW_AUTOSIZE)\n",
    "    cv2.imshow('RGB Camera',camera_data['image'])\n",
    "    # getting a random route for the car\n",
    "    route = select_random_route(start_point,spawn_points)\n",
    "    curr_wp = 5 #we will be tracking waypoints in the route and switch to next one when we get close to current one\n",
    "    predicted_angle = 0\n",
    "    PREFERRED_SPEED = 40 # setting speed at start of new route\n",
    "    \n",
    "    while curr_wp<len(route)-1:\n",
    "        # Carla Tick\n",
    "        world.tick()\n",
    "        draw_route(curr_wp, route,1)\n",
    "        if cv2.waitKey(1) == ord('q'):\n",
    "            quit = True\n",
    "            exit_clean()\n",
    "            break\n",
    "        image = camera_data['image']\n",
    "        if curr_wp >=len(route)-10: # within 10 points of end, the route is done\n",
    "            PREFERRED_SPEED = 0 # seeting speed to 0 after completing one route\n",
    "            exit_clean()\n",
    "            break\n",
    "        while curr_wp<len(route)-2 and vehicle.get_transform().location.distance(route[curr_wp][0].transform.location)<5:\n",
    "            curr_wp +=1 #move to next wp if we are too close\n",
    "        curr_wp, predicted_angle = get_proper_angle(vehicle,curr_wp,route)\n",
    "        distant_angle = get_distant_angle(vehicle,curr_wp,route,30)\n",
    "        image = cv2.putText(image, 'Steering angle: '+str(round(predicted_angle,1)), org, font, fontScale, color, thickness, cv2.LINE_AA)\n",
    "        v = vehicle.get_velocity()\n",
    "        speed = round(3.6 * math.sqrt(v.x**2 + v.y**2 + v.z**2),0)\n",
    "        image = cv2.putText(image, 'Speed: '+str(int(speed)), org3, font, fontScale, color, thickness, cv2.LINE_AA)\n",
    "        image = cv2.putText(image, 'General Direction: '+str(distant_angle), org2, font, fontScale, color, thickness, cv2.LINE_AA)\n",
    "        estimated_throttle = maintain_speed(speed)\n",
    "\n",
    "        steer_input = predicted_angle\n",
    "        # limit steering to max angel, say 40 degrees\n",
    "        if predicted_angle<-MAX_STEER_DEGREES:\n",
    "            steer_input = -MAX_STEER_DEGREES\n",
    "        elif predicted_angle>MAX_STEER_DEGREES:\n",
    "            steer_input = MAX_STEER_DEGREES\n",
    "        # conversion from degrees to -1 to +1 input for apply control function is applied below in steering input\n",
    "        vehicle.apply_control(carla.VehicleControl(throttle=estimated_throttle, steer=steer_input/STEERING_CONVERSION))\n",
    "        cv2.imshow('RGB Camera',image)\n",
    "    if quit:\n",
    "        break\n",
    "\n"
   ]
  },
  {
   "cell_type": "markdown",
   "metadata": {},
   "source": [
    "# The plan from here:\n",
    "\n",
    "The code above needs to change to generate images\n",
    "With semantic segmentation image, we need to add:\n",
    "\n",
    "1. Precise angle we need to get from the model (predicition) - aka. Y or labels.\n",
    "This angle will be taken from what we apply to the car using waypoints as before\n",
    "2. General/advance direction angle we just added above. This will be our\n",
    "second input into predictions (x1 is image, x2 is general direction). We simplified \n",
    "this angle to represent (straight/follow=0, left=-1 or right=1)\n",
    "\n",
    "Limitation: lane changes, which are quite abrupt may impact the quality of training images\n",
    "where general direction may be impacted "
   ]
  },
  {
   "cell_type": "code",
   "execution_count": 24,
   "metadata": {
    "tags": []
   },
   "outputs": [],
   "source": [
    "def select_random_route(position,locs):\n",
    "    '''\n",
    "    retruns a random route for the car/veh\n",
    "    out of the list of possible locations locs\n",
    "    where distance is longer than 100 waypoints\n",
    "    '''    \n",
    "    point_a = position.location #we start at where the car is or last waypoint\n",
    "    sampling_resolution = 1\n",
    "    grp = GlobalRoutePlanner(world.get_map(), sampling_resolution)\n",
    "    # now let' pick the longest possible route\n",
    "    min_distance = 100\n",
    "    max_distance = 140\n",
    "    result_route = None\n",
    "    route_list = []\n",
    "    for loc in locs: # we start trying all spawn points \n",
    "                                #but we just exclude first at zero index\n",
    "        cur_route = grp.trace_route(point_a, loc.location)\n",
    "        if len(cur_route) > min_distance and len(cur_route) < max_distance:\n",
    "            route_list.append(cur_route)\n",
    "    result_route = random.choice(route_list)\n",
    "    return result_route"
   ]
  },
  {
   "cell_type": "code",
   "execution_count": 25,
   "metadata": {
    "tags": []
   },
   "outputs": [],
   "source": [
    "for sensor in world.get_actors().filter('*sensor*'):\n",
    "    sensor.destroy()\n",
    "for actor in world.get_actors().filter('*vehicle*'):\n",
    "    actor.destroy()\n",
    "spawn_points = world.get_map().get_spawn_points()\n",
    "x = random.randint(0,len(spawn_points)-1)\n",
    "start_point = spawn_points[x]\n",
    "route = select_random_route(start_point,spawn_points)\n",
    "#draw the route in sim window - Note it does not get into the camera of the car\n",
    "for waypoint in route:\n",
    "    world.debug.draw_string(waypoint[0].transform.location, '^', draw_shadow=False,\n",
    "        color=carla.Color(r=0, g=0, b=255), life_time=5.0,\n",
    "        persistent_lines=True)"
   ]
  },
  {
   "cell_type": "code",
   "execution_count": 26,
   "metadata": {
    "tags": []
   },
   "outputs": [],
   "source": [
    "for waypoint in route:\n",
    "\n",
    "    world.debug.draw_string(waypoint[0].transform.location, '^', draw_shadow=False,\n",
    "        color=carla.Color(r=0, g=0, b=255), life_time=125.0,\n",
    "        persistent_lines=True)"
   ]
  },
  {
   "cell_type": "code",
   "execution_count": 27,
   "metadata": {
    "tags": []
   },
   "outputs": [
    {
     "name": "stdout",
     "output_type": "stream",
     "text": [
      "intersection begins at point: 83\n"
     ]
    }
   ],
   "source": [
    "start_intersection = 0\n",
    "for i, waypoint in enumerate(route):\n",
    "    if (route[i][0].is_junction or route[i][0].is_intersection) and start_intersection==0:\n",
    "        start_intersection = i\n",
    "        break\n",
    "print('intersection begins at point:',i)"
   ]
  },
  {
   "cell_type": "code",
   "execution_count": 28,
   "metadata": {
    "tags": []
   },
   "outputs": [],
   "source": [
    "world.debug.draw_string(route[i][0].transform.location, '^', draw_shadow=False,\n",
    "        color=carla.Color(r=0, g=0, b=255), life_time=125.0,\n",
    "        persistent_lines=True)"
   ]
  },
  {
   "cell_type": "code",
   "execution_count": 29,
   "metadata": {
    "tags": []
   },
   "outputs": [],
   "source": [
    "temp_wp= route[i][0]"
   ]
  },
  {
   "cell_type": "code",
   "execution_count": 30,
   "metadata": {
    "tags": []
   },
   "outputs": [],
   "source": [
    "# this is how to get entry and exit points from an intersection\n",
    "my_junction = temp_wp.get_junction()\n",
    "junction_wps = my_junction.get_waypoints(carla.LaneType.Driving)\n",
    "for waypoint in junction_wps:\n",
    "    #entry points\n",
    "    world.debug.draw_string(waypoint[0].transform.location, '^', draw_shadow=False,\n",
    "        color=carla.Color(r=0, g=0, b=255), life_time=125.0,\n",
    "        persistent_lines=True)\n",
    "    #exit points\n",
    "    world.debug.draw_string(waypoint[1].transform.location, '^', draw_shadow=False,\n",
    "        color=carla.Color(r=255, g=0, b=0), life_time=125.0,\n",
    "        persistent_lines=True)"
   ]
  },
  {
   "cell_type": "code",
   "execution_count": 34,
   "metadata": {
    "tags": []
   },
   "outputs": [],
   "source": [
    "#set the car before an intersection\n",
    "for sensor in world.get_actors().filter('*sensor*'):\n",
    "    sensor.destroy()\n",
    "for actor in world.get_actors().filter('*vehicle*'):\n",
    "    actor.destroy()\n",
    "vehicle_bp = world.get_blueprint_library().filter('*model3*')\n",
    "vehicle = world.try_spawn_actor(vehicle_bp[0], spawn_points[0])\n",
    "vehicle.set_transform(route[77][0].transform)"
   ]
  },
  {
   "cell_type": "code",
   "execution_count": 32,
   "metadata": {
    "tags": []
   },
   "outputs": [],
   "source": [
    "#find possible exists from a junction which are not U turns \n",
    "angles_planned = [] # this is a list of angles towards current exit from the intersection\n",
    "all_angles = []\n",
    "for wp in junction_wps:\n",
    "    angle = int(get_angle(vehicle,wp[1])) \n",
    "    if abs(angle)<60: #this excludes exits for which you would need to take u-turns so they do not count\n",
    "        # check all exits for proximity to our route so we can flag the exit we are planning to take\n",
    "        for i in range(77,len(route)-1):\n",
    "            if wp[1].transform.location.distance(route[i][0].transform.location) < 10:\n",
    "                angles_planned.append(angle)\n",
    "            else:\n",
    "                all_angles.append(angle)\n",
    "angles_planned = list(set(angles_planned))\n",
    "all_angles = list(set(all_angles))\n",
    "alternative_angles = [item for item in all_angles if item not in angles_planned] \n",
    "\n",
    "if min(angles_planned)<-25 and (min(alternative_angles) > min(angles_planned)):\n",
    "    #we are planningleft turn\n",
    "    direction = -1\n",
    "elif max(angles_planned)>25 and (max(alternative_angles) < max(angles_planned)):\n",
    "    direction = 1\n",
    "else:\n",
    "    direction = 0 "
   ]
  },
  {
   "cell_type": "code",
   "execution_count": 148,
   "metadata": {},
   "outputs": [
    {
     "data": {
      "text/plain": [
       "0"
      ]
     },
     "execution_count": 148,
     "metadata": {},
     "output_type": "execute_result"
    }
   ],
   "source": []
  },
  {
   "cell_type": "code",
   "execution_count": null,
   "metadata": {},
   "outputs": [],
   "source": []
  },
  {
   "cell_type": "code",
   "execution_count": 33,
   "metadata": {
    "tags": []
   },
   "outputs": [
    {
     "name": "stdout",
     "output_type": "stream",
     "text": [
      "lane_change detected\n"
     ]
    },
    {
     "ename": "KeyboardInterrupt",
     "evalue": "",
     "output_type": "error",
     "traceback": [
      "\u001b[1;31m---------------------------------------------------------------------------\u001b[0m",
      "\u001b[1;31mKeyboardInterrupt\u001b[0m                         Traceback (most recent call last)",
      "\u001b[1;32m~\\AppData\\Local\\Temp\\ipykernel_8468\\671416096.py\u001b[0m in \u001b[0;36m<module>\u001b[1;34m\u001b[0m\n\u001b[0;32m    155\u001b[0m             \u001b[0mvehicle\u001b[0m\u001b[1;33m.\u001b[0m\u001b[0mset_transform\u001b[0m\u001b[1;33m(\u001b[0m\u001b[0mtrans\u001b[0m\u001b[1;33m)\u001b[0m\u001b[1;33m\u001b[0m\u001b[1;33m\u001b[0m\u001b[0m\n\u001b[0;32m    156\u001b[0m             \u001b[0mvehicle\u001b[0m\u001b[1;33m.\u001b[0m\u001b[0mapply_control\u001b[0m\u001b[1;33m(\u001b[0m\u001b[0mcarla\u001b[0m\u001b[1;33m.\u001b[0m\u001b[0mVehicleControl\u001b[0m\u001b[1;33m(\u001b[0m\u001b[0mthrottle\u001b[0m\u001b[1;33m=\u001b[0m\u001b[1;36m0\u001b[0m\u001b[1;33m,\u001b[0m \u001b[0msteer\u001b[0m\u001b[1;33m=\u001b[0m\u001b[1;36m0\u001b[0m\u001b[1;33m,\u001b[0m \u001b[0mbrake\u001b[0m\u001b[1;33m=\u001b[0m\u001b[1;36m1\u001b[0m\u001b[1;33m)\u001b[0m\u001b[1;33m)\u001b[0m\u001b[1;33m\u001b[0m\u001b[1;33m\u001b[0m\u001b[0m\n\u001b[1;32m--> 157\u001b[1;33m             \u001b[0mtime\u001b[0m\u001b[1;33m.\u001b[0m\u001b[0msleep\u001b[0m\u001b[1;33m(\u001b[0m\u001b[1;36m1\u001b[0m\u001b[1;33m)\u001b[0m  \u001b[1;31m#these delays seem to be necessary for the car to take the position before a shot is taken\u001b[0m\u001b[1;33m\u001b[0m\u001b[1;33m\u001b[0m\u001b[0m\n\u001b[0m\u001b[0;32m    158\u001b[0m             \u001b[0mgen_dir_angle\u001b[0m \u001b[1;33m=\u001b[0m \u001b[0mget_distant_angle\u001b[0m\u001b[1;33m(\u001b[0m\u001b[0mvehicle\u001b[0m\u001b[1;33m,\u001b[0m\u001b[0midx\u001b[0m\u001b[1;33m,\u001b[0m\u001b[0mroute\u001b[0m\u001b[1;33m,\u001b[0m\u001b[1;36m30\u001b[0m\u001b[1;33m)\u001b[0m \u001b[1;31m# general angle taken before spinning the car\u001b[0m\u001b[1;33m\u001b[0m\u001b[1;33m\u001b[0m\u001b[0m\n\u001b[0;32m    159\u001b[0m             \u001b[1;32mif\u001b[0m \u001b[0mcv2\u001b[0m\u001b[1;33m.\u001b[0m\u001b[0mwaitKey\u001b[0m\u001b[1;33m(\u001b[0m\u001b[1;36m1\u001b[0m\u001b[1;33m)\u001b[0m \u001b[1;33m==\u001b[0m \u001b[0mord\u001b[0m\u001b[1;33m(\u001b[0m\u001b[1;34m'q'\u001b[0m\u001b[1;33m)\u001b[0m\u001b[1;33m:\u001b[0m\u001b[1;33m\u001b[0m\u001b[1;33m\u001b[0m\u001b[0m\n",
      "\u001b[1;31mKeyboardInterrupt\u001b[0m: "
     ]
    }
   ],
   "source": [
    "# test image gen on a short route\n",
    "# to confirm lane change points are ignored\n",
    "\n",
    "CAMERA_POS_Z = 1.3 \n",
    "CAMERA_POS_X = 1.4 \n",
    "\n",
    "CAM_HEIGHT = 480\n",
    "CAM_WIDTH = 640\n",
    "FOV = 90 # field of view = focal length\n",
    "\n",
    "YAW_ADJ_DEGREES = 25 #random spin angle max\n",
    "\n",
    "def camera_callback(image,data_dict):\n",
    "    data_dict['image'] = np.reshape(np.copy(image.raw_data),(image.height,image.width,4))[:, :, :3]\n",
    "def sem_callback(image,data_dict):\n",
    "    ########## IMPORTANT CHANGE for Semantic camera ##############\n",
    "    image.convert(carla.ColorConverter.CityScapesPalette)\n",
    "    data_dict['sem_image'] = np.reshape(np.copy(image.raw_data),(image.height,image.width,4))[:, :, :3]\n",
    "\n",
    "def cleanup():\n",
    "    for actor in world.get_actors().filter('*vehicle*'):\n",
    "        actor.destroy()\n",
    "    for actor in world.get_actors().filter('*sensor*'):\n",
    "        actor.destroy()\n",
    "\n",
    "# function to get angle between the car and target waypoint\n",
    "def get_angle(car,wp):\n",
    "    '''\n",
    "    this function returns degrees between the car's direction \n",
    "    and direction to a selected waypoint\n",
    "    '''\n",
    "    vehicle_pos = car.get_transform()\n",
    "    car_x = vehicle_pos.location.x\n",
    "    car_y = vehicle_pos.location.y\n",
    "    wp_x = wp.transform.location.x\n",
    "    wp_y = wp.transform.location.y\n",
    "    \n",
    "    # vector to waypoint\n",
    "    if ((wp_y - car_y)**2 + (wp_x - car_x)**2)**0.5 == 0:\n",
    "        x=0\n",
    "        y=0\n",
    "    else:\n",
    "        x = (wp_x - car_x)/((wp_y - car_y)**2 + (wp_x - car_x)**2)**0.5\n",
    "        y = (wp_y - car_y)/((wp_y - car_y)**2 + (wp_x - car_x)**2)**0.5\n",
    "        \n",
    "    #car vector\n",
    "    car_vector = vehicle_pos.get_forward_vector()\n",
    "    degrees = math.degrees(np.arctan2(y, x) - np.arctan2(car_vector.y, car_vector.x))\n",
    "    # extra checks on predicted angle when values close to 360 degrees are returned\n",
    "    if degrees<-180:\n",
    "        degrees = degrees + 360\n",
    "    elif degrees > 180:\n",
    "        degrees = degrees - 360\n",
    "    return degrees\n",
    "\n",
    "\n",
    "def get_distant_angle(car,wp_idx,rte, delta):\n",
    "    '''\n",
    "    This function modifies the function above to get angle to a waypoint\n",
    "    at a distance so we could use it for training image generation\n",
    "    \n",
    "    We will display the angle for now in the 'telemetry' view so\n",
    "    we could play with how far forward we need to pick the waypoint\n",
    "    '''\n",
    "    if wp_idx + delta < len(rte)-1:\n",
    "        i = wp_idx + delta\n",
    "    else:\n",
    "        i = len(rte)-1\n",
    "    # check for intersection within the \"look forward\"\n",
    "    # so we do not give turn results when just following the road\n",
    "    intersection_detected = False\n",
    "    for x in range(i-wp_idx):\n",
    "        if rte[wp_idx+x][0].is_junction:\n",
    "             intersection_detected = True\n",
    "    angle = get_angle(car,rte[i][0])\n",
    "    if not intersection_detected:\n",
    "        result = 0\n",
    "    elif angle <-10:\n",
    "        result = -1\n",
    "    elif angle>10:\n",
    "        result =1\n",
    "    else:\n",
    "        result = 0    \n",
    "    return result\n",
    "\n",
    "def draw_route(wp, route,seconds=3.0):\n",
    "    #draw the next few points route in sim window - Note it does not\n",
    "    # get into the camera of the car\n",
    "    if len(route)-wp <25: # route within 25 points from end is red\n",
    "        draw_colour = carla.Color(r=255, g=0, b=0)\n",
    "    else:\n",
    "        draw_colour = carla.Color(r=0, g=0, b=255)\n",
    "    for i in range(10):\n",
    "        if wp+i<len(route)-2:\n",
    "            world.debug.draw_string(route[wp+i][0].transform.location, '^', draw_shadow=False,\n",
    "                color=draw_colour, life_time=seconds,\n",
    "                persistent_lines=True)\n",
    "    return None\n",
    "\n",
    "\n",
    "\n",
    "\n",
    "    #RGB CAM\n",
    "camera_bp = world.get_blueprint_library().find('sensor.camera.rgb')\n",
    "camera_bp.set_attribute('image_size_x', str(CAM_WIDTH)) # this ratio works in CARLA 9.14 on Windows\n",
    "camera_bp.set_attribute('image_size_y', str(CAM_HEIGHT))\n",
    "camera_bp.set_attribute('fov', str(FOV))\n",
    "camera_init_trans = carla.Transform(carla.Location(z=CAMERA_POS_Z,x=CAMERA_POS_X))\n",
    "#this creates the camera in the sim\n",
    "camera = world.spawn_actor(camera_bp,camera_init_trans,attach_to=vehicle)\n",
    "image_w = camera_bp.get_attribute('image_size_x').as_int()\n",
    "image_h = camera_bp.get_attribute('image_size_y').as_int()\n",
    "camera_data = {'image': np.zeros((image_h,image_w,3)),\n",
    "            'sem_image': np.zeros((image_h,image_w,3))}\n",
    "# this actually opens a live stream from the camera\n",
    "camera.listen(lambda image: camera_callback(image,camera_data))\n",
    "\n",
    "#Semantgic cam\n",
    "sem_camera_bp = world.get_blueprint_library().find('sensor.camera.semantic_segmentation')\n",
    "sem_camera_bp.set_attribute('image_size_x', str(CAM_WIDTH)) # this ratio works in CARLA 9.14 on Windows\n",
    "sem_camera_bp.set_attribute('image_size_y', str(CAM_HEIGHT))\n",
    "sem_camera_bp.set_attribute('fov', str(FOV))\n",
    "#this creates the camera in the sim\n",
    "sem_camera = world.spawn_actor(sem_camera_bp,camera_init_trans,attach_to=vehicle)\n",
    "image_w = sem_camera_bp.get_attribute('image_size_x').as_int()\n",
    "image_h = sem_camera_bp.get_attribute('image_size_y').as_int()\n",
    "sem_camera_data = {'image': np.zeros((image_h,image_w,3))}\n",
    "# this actually opens a live stream from the camera\n",
    "#sem_camera.listen(lambda image: camera_callback(image,sem_camera_data))\n",
    "sem_camera.listen(lambda image: sem_callback(image,camera_data))\n",
    "\n",
    "cv2.namedWindow('RGB Camera',cv2.WINDOW_AUTOSIZE)\n",
    "cv2.imshow('RGB Camera',camera_data['image'])\n",
    "#make a route\n",
    "\n",
    "for idx, waypoint in enumerate(route): # move the car through the route\n",
    "    \n",
    "    transform = waypoint[0].transform\n",
    "    vehicle.set_transform(transform)\n",
    "    vehicle.apply_control(carla.VehicleControl(throttle=0, steer=0, brake=1))\n",
    "    time.sleep(2) #these delays seem to be necessary for teh car to take the position before a shot is taken\n",
    "    initial_yaw = waypoint[0].transform.rotation.yaw\n",
    "    \n",
    "    lane_change = False\n",
    "    if not waypoint[0].is_intersection and not waypoint[0].is_junction:\n",
    "        if idx < len(route)-2:\n",
    "            if route[idx][0].lane_id != route[idx+1][0].lane_id:\n",
    "                lane_change = True\n",
    "                print('lane_change detected')\n",
    "    if not lane_change:\n",
    "        for i in range(5):\n",
    "            trans = waypoint[0].transform\n",
    "            angle_adj = random.randrange(-YAW_ADJ_DEGREES, YAW_ADJ_DEGREES, 1)\n",
    "            trans.rotation.yaw = initial_yaw +angle_adj \n",
    "            vehicle.set_transform(trans)\n",
    "            vehicle.apply_control(carla.VehicleControl(throttle=0, steer=0, brake=1))\n",
    "            time.sleep(1)  #these delays seem to be necessary for the car to take the position before a shot is taken\n",
    "            gen_dir_angle = get_distant_angle(vehicle,idx,route,30) # general angle taken before spinning the car\n",
    "            if cv2.waitKey(1) == ord('q'):\n",
    "                quit = True\n",
    "                break\n",
    "            # Display with imshow\n",
    "            cv2.imshow('RGB Camera',camera_data['image'])\n",
    "            # save semantic image watching out for end of route    \n",
    "            if idx +5 < len(route)-1:\n",
    "                predicted_angle = get_angle(vehicle,route[idx+5][0]) # we always get the angle to +5 waypoint ahead of us\n",
    "                \n",
    "                time_grab = time.time_ns()\n",
    "                sem_image = camera_data['sem_image']\n",
    "                if np.sum(sem_image) > 0:   #check for black images\n",
    "                    cv2.imwrite('_img/%06d_%s_%s.png' % (time_grab, gen_dir_angle,round(predicted_angle,0)), sem_image)\n",
    "\n",
    "cv2.destroyAllWindows()\n",
    "cleanup()"
   ]
  },
  {
   "cell_type": "code",
   "execution_count": 36,
   "metadata": {
    "tags": []
   },
   "outputs": [
    {
     "ename": "KeyboardInterrupt",
     "evalue": "",
     "output_type": "error",
     "traceback": [
      "\u001b[1;31m---------------------------------------------------------------------------\u001b[0m",
      "\u001b[1;31mKeyboardInterrupt\u001b[0m                         Traceback (most recent call last)",
      "\u001b[1;32m~\\AppData\\Local\\Temp\\ipykernel_8468\\975058304.py\u001b[0m in \u001b[0;36m<module>\u001b[1;34m\u001b[0m\n\u001b[0;32m     62\u001b[0m             \u001b[0mvehicle\u001b[0m\u001b[1;33m.\u001b[0m\u001b[0mset_transform\u001b[0m\u001b[1;33m(\u001b[0m\u001b[0mtrans\u001b[0m\u001b[1;33m)\u001b[0m\u001b[1;33m\u001b[0m\u001b[1;33m\u001b[0m\u001b[0m\n\u001b[0;32m     63\u001b[0m             \u001b[0mvehicle\u001b[0m\u001b[1;33m.\u001b[0m\u001b[0mapply_control\u001b[0m\u001b[1;33m(\u001b[0m\u001b[0mcarla\u001b[0m\u001b[1;33m.\u001b[0m\u001b[0mVehicleControl\u001b[0m\u001b[1;33m(\u001b[0m\u001b[0mthrottle\u001b[0m\u001b[1;33m=\u001b[0m\u001b[1;36m0\u001b[0m\u001b[1;33m,\u001b[0m \u001b[0msteer\u001b[0m\u001b[1;33m=\u001b[0m\u001b[1;36m0\u001b[0m\u001b[1;33m,\u001b[0m \u001b[0mbrake\u001b[0m\u001b[1;33m=\u001b[0m\u001b[1;36m1\u001b[0m\u001b[1;33m)\u001b[0m\u001b[1;33m)\u001b[0m\u001b[1;33m\u001b[0m\u001b[1;33m\u001b[0m\u001b[0m\n\u001b[1;32m---> 64\u001b[1;33m             \u001b[0mtime\u001b[0m\u001b[1;33m.\u001b[0m\u001b[0msleep\u001b[0m\u001b[1;33m(\u001b[0m\u001b[1;36m1\u001b[0m\u001b[1;33m)\u001b[0m  \u001b[1;31m#these delays seem to be necessary for the car to take the position before a shot is taken\u001b[0m\u001b[1;33m\u001b[0m\u001b[1;33m\u001b[0m\u001b[0m\n\u001b[0m\u001b[0;32m     65\u001b[0m \u001b[1;33m\u001b[0m\u001b[0m\n\u001b[0;32m     66\u001b[0m             \u001b[1;32mif\u001b[0m \u001b[0mcv2\u001b[0m\u001b[1;33m.\u001b[0m\u001b[0mwaitKey\u001b[0m\u001b[1;33m(\u001b[0m\u001b[1;36m1\u001b[0m\u001b[1;33m)\u001b[0m \u001b[1;33m==\u001b[0m \u001b[0mord\u001b[0m\u001b[1;33m(\u001b[0m\u001b[1;34m'q'\u001b[0m\u001b[1;33m)\u001b[0m\u001b[1;33m:\u001b[0m\u001b[1;33m\u001b[0m\u001b[1;33m\u001b[0m\u001b[0m\n",
      "\u001b[1;31mKeyboardInterrupt\u001b[0m: "
     ]
    }
   ],
   "source": [
    "# test gen direction at intersections\n",
    "vehicle_bp = world.get_blueprint_library().filter('*model3*')\n",
    "start_point = spawn_points[0]\n",
    "vehicle = world.try_spawn_actor(vehicle_bp[0], start_point)\n",
    "\n",
    "#RGB CAM\n",
    "camera_bp = world.get_blueprint_library().find('sensor.camera.rgb')\n",
    "camera_bp.set_attribute('image_size_x', str(CAM_WIDTH)) # this ratio works in CARLA 9.14 on Windows\n",
    "camera_bp.set_attribute('image_size_y', str(CAM_HEIGHT))\n",
    "camera_bp.set_attribute('fov', str(FOV))\n",
    "camera_init_trans = carla.Transform(carla.Location(z=CAMERA_POS_Z,x=CAMERA_POS_X))\n",
    "#this creates the camera in the sim\n",
    "camera = world.spawn_actor(camera_bp,camera_init_trans,attach_to=vehicle)\n",
    "image_w = camera_bp.get_attribute('image_size_x').as_int()\n",
    "image_h = camera_bp.get_attribute('image_size_y').as_int()\n",
    "camera_data = {'image': np.zeros((image_h,image_w,3)),\n",
    "            'sem_image': np.zeros((image_h,image_w,3))}\n",
    "# this actually opens a live stream from the camera\n",
    "camera.listen(lambda image: camera_callback(image,camera_data))\n",
    "\n",
    "#Semantgic cam\n",
    "sem_camera_bp = world.get_blueprint_library().find('sensor.camera.semantic_segmentation')\n",
    "sem_camera_bp.set_attribute('image_size_x', str(CAM_WIDTH)) # this ratio works in CARLA 9.14 on Windows\n",
    "sem_camera_bp.set_attribute('image_size_y', str(CAM_HEIGHT))\n",
    "sem_camera_bp.set_attribute('fov', str(FOV))\n",
    "#this creates the camera in the sim\n",
    "sem_camera = world.spawn_actor(sem_camera_bp,camera_init_trans,attach_to=vehicle)\n",
    "image_w = sem_camera_bp.get_attribute('image_size_x').as_int()\n",
    "image_h = sem_camera_bp.get_attribute('image_size_y').as_int()\n",
    "sem_camera_data = {'image': np.zeros((image_h,image_w,3))}\n",
    "# this actually opens a live stream from the camera\n",
    "#sem_camera.listen(lambda image: camera_callback(image,sem_camera_data))\n",
    "sem_camera.listen(lambda image: sem_callback(image,camera_data))\n",
    "\n",
    "cv2.namedWindow('RGB Camera',cv2.WINDOW_AUTOSIZE)\n",
    "cv2.imshow('RGB Camera',camera_data['image'])\n",
    "#make a route\n",
    "\n",
    "gen_dir_angle = 0 # in case we did not get a general GPS direction\n",
    "for idx, waypoint in enumerate(route): # move the car through the route\n",
    "    \n",
    "    transform = waypoint[0].transform\n",
    "    vehicle.set_transform(transform)\n",
    "    vehicle.apply_control(carla.VehicleControl(throttle=0, steer=0, brake=1))\n",
    "    time.sleep(2) #these delays seem to be necessary for teh car to take the position before a shot is taken\n",
    "    initial_yaw = waypoint[0].transform.rotation.yaw\n",
    "    # GPS general direction is only taken outside intersections\n",
    "    # so that direction is retained throughout the same intersection until it is finished\n",
    "    if not waypoint[0].is_intersection and not waypoint[0].is_junction:\n",
    "        gen_dir_angle = get_distant_angle(vehicle,idx,route,30) # general angle taken before spinning the car\n",
    "    # logic to detect a lane change and ignore/not take those images\n",
    "    lane_change = False\n",
    "    if not waypoint[0].is_intersection and not waypoint[0].is_junction:\n",
    "        if idx < len(route)-2:\n",
    "            if route[idx][0].lane_id != route[idx+1][0].lane_id:\n",
    "                lane_change = True\n",
    "    if not lane_change:\n",
    "        for i in range(5):\n",
    "            trans = waypoint[0].transform\n",
    "            angle_adj = random.randrange(-YAW_ADJ_DEGREES, YAW_ADJ_DEGREES, 1)\n",
    "            trans.rotation.yaw = initial_yaw +angle_adj \n",
    "            vehicle.set_transform(trans)\n",
    "            vehicle.apply_control(carla.VehicleControl(throttle=0, steer=0, brake=1))\n",
    "            time.sleep(1)  #these delays seem to be necessary for the car to take the position before a shot is taken\n",
    "            \n",
    "            if cv2.waitKey(1) == ord('q'):\n",
    "                quit = True\n",
    "                break\n",
    "            # Display with imshow\n",
    "            cv2.imshow('RGB Camera',camera_data['image'])\n",
    "            # save semantic image watching out for end of route    \n",
    "            if idx +5 < len(route)-1:\n",
    "                predicted_angle = get_angle(vehicle,route[idx+5][0]) # we always get the angle to +5 waypoint ahead of us\n",
    "                \n",
    "                time_grab = time.time_ns()\n",
    "                sem_image = camera_data['sem_image']\n",
    "                if np.sum(sem_image) > 0:   #check for black images\n",
    "                    cv2.imwrite('_img/%06d_%s_%s.png' % (time_grab, gen_dir_angle,round(predicted_angle,0)), sem_image)\n",
    "cv2.destroyAllWindows()\n",
    "cleanup()"
   ]
  },
  {
   "cell_type": "code",
   "execution_count": 180,
   "metadata": {},
   "outputs": [],
   "source": [
    "#latest get direction function\n",
    "def get_distant_angle(car,wp_idx,rte, delta):\n",
    "    '''\n",
    "    This function determines general direction\n",
    "    given what we are planning to do at an oncoming intersection\n",
    "    so if we are within delta points from an intersection\n",
    "    we check our route at the intersection to decide what we do at it\n",
    "    '''\n",
    "    if wp_idx + delta < len(rte)-1:\n",
    "        i = wp_idx + delta\n",
    "    else:\n",
    "        i = len(rte)-1\n",
    "    # check for intersection within the \"look forward\"\n",
    "    # so we do not give turn results when just following the road\n",
    "    intersection_detected = False\n",
    "    for x in range(i-wp_idx):\n",
    "        if rte[wp_idx+x][0].is_junction:\n",
    "             intersection_detected = True\n",
    "             intersection_ref = wp_idx+x\n",
    "             break\n",
    "    if not intersection_detected:\n",
    "        result = 0\n",
    "    else: #we check out the intersection\n",
    "        angles_planned = [] # this is a list of angles towards current exit from the intersection\n",
    "        all_angles = []\n",
    "        #this is how to get all waypoints defining an intersection\n",
    "        junction_wps = rte[intersection_ref][0].get_junction().get_waypoints(carla.LaneType.Driving)\n",
    "        for wp in junction_wps:\n",
    "            angle = int(get_angle(car,wp[1])) \n",
    "            #this 'if' below excludes close exits points to entry - exits for which you would need to take u-turns so they do not count\n",
    "            if wp[1].transform.location.distance(route[intersection_ref][0].transform.location) > 20: \n",
    "                # check all exits for proximity to our route so we can flag the exit we are planning to take\n",
    "                for i in range(intersection_ref,len(route)-1):\n",
    "                    if wp[1].transform.location.distance(route[i][0].transform.location) < 10:\n",
    "                        angles_planned.append(angle)\n",
    "                    else:\n",
    "                        all_angles.append(angle)\n",
    "        angles_planned = list(set(angles_planned))\n",
    "        all_angles = list(set(all_angles))\n",
    "        alternative_angles = [item for item in all_angles if item not in angles_planned] \n",
    "        if len(alternative_angles)== 0:\n",
    "            result = 0\n",
    "        elif min(angles_planned)<-25 and (min(alternative_angles) > min(angles_planned)):\n",
    "            #we are planningleft turn\n",
    "            result = -1\n",
    "        elif max(angles_planned)>25 and (max(alternative_angles) < max(angles_planned)):\n",
    "            result = 1\n",
    "        else:\n",
    "            result = 0  \n",
    "    return result"
   ]
  },
  {
   "cell_type": "code",
   "execution_count": 160,
   "metadata": {},
   "outputs": [],
   "source": [
    "for waypoint in route:\n",
    "    world.debug.draw_string(waypoint[0].transform.location, '^', draw_shadow=False,\n",
    "        color=carla.Color(r=0, g=0, b=255), life_time=125.0,\n",
    "        persistent_lines=True)"
   ]
  },
  {
   "cell_type": "code",
   "execution_count": 191,
   "metadata": {},
   "outputs": [
    {
     "data": {
      "text/plain": [
       "1"
      ]
     },
     "execution_count": 191,
     "metadata": {},
     "output_type": "execute_result"
    }
   ],
   "source": [
    "# move car to\n",
    "#vehicle_bp = world.get_blueprint_library().filter('*model3*')\n",
    "#vehicle = world.try_spawn_actor(vehicle_bp[0], start_point)\n",
    "\n",
    "temp_wp = 50\n",
    "vehicle.set_transform(route[temp_wp][0].transform)\n",
    "get_distant_angle(vehicle,temp_wp,route,40)"
   ]
  },
  {
   "cell_type": "code",
   "execution_count": 153,
   "metadata": {},
   "outputs": [
    {
     "data": {
      "text/plain": [
       "0"
      ]
     },
     "execution_count": 153,
     "metadata": {},
     "output_type": "execute_result"
    }
   ],
   "source": [
    "# generate interesting routes\n",
    "for sensor in world.get_actors().filter('*sensor*'):\n",
    "    sensor.destroy()\n",
    "for actor in world.get_actors().filter('*vehicle*'):\n",
    "    actor.destroy()\n",
    "spawn_points = world.get_map().get_spawn_points()\n",
    "x = random.randint(0,len(spawn_points)-1)\n",
    "start_point = spawn_points[x]\n",
    "route = select_random_route(start_point,spawn_points)\n",
    "#draw the route in sim window - Note it does not get into the camera of the car\n",
    "for waypoint in route:\n",
    "    world.debug.draw_string(waypoint[0].transform.location, '^', draw_shadow=False,\n",
    "        color=carla.Color(r=0, g=0, b=255), life_time=5.0,\n",
    "        persistent_lines=True)"
   ]
  },
  {
   "cell_type": "code",
   "execution_count": 178,
   "metadata": {},
   "outputs": [
    {
     "name": "stdout",
     "output_type": "stream",
     "text": [
      "1\n"
     ]
    }
   ],
   "source": [
    "#debug fnction\n",
    "wp_idx = 65\n",
    "delta = 30\n",
    "rte = route\n",
    "if wp_idx + delta < len(rte)-1:\n",
    "    i = wp_idx + delta\n",
    "else:\n",
    "    i = len(rte)-1\n",
    "# check for intersection within the \"look forward\"\n",
    "# so we do not give turn results when just following the road\n",
    "intersection_detected = False\n",
    "for x in range(i-wp_idx):\n",
    "    if rte[wp_idx+x][0].is_junction:\n",
    "            intersection_detected = True\n",
    "            intersection_ref = wp_idx+x\n",
    "            break\n",
    "if not intersection_detected:\n",
    "    result = 0\n",
    "else: #we check out the intersection\n",
    "    angles_planned = [] # this is a list of angles towards current exit from the intersection\n",
    "    all_angles = []\n",
    "    #this is how to get all waypoints defining an intersection\n",
    "    junction_wps = rte[intersection_ref][0].get_junction().get_waypoints(carla.LaneType.Driving)\n",
    "    for wp in junction_wps:\n",
    "        angle = int(get_angle(vehicle,wp[1])) \n",
    "        \n",
    "        if wp[1].transform.location.distance(route[intersection_ref][0].transform.location) > 20: #this excludes close points - exits for which you would need to take u-turns so they do not count\n",
    "            world.debug.draw_string(wp[1].transform.location, '^', draw_shadow=False,\n",
    "                color=carla.Color(r=255, g=0, b=0), life_time=60.0,\n",
    "                persistent_lines=True)\n",
    "            # check all exits for proximity to our route so we can flag the exit we are planning to take\n",
    "            for i in range(intersection_ref,len(route)-1):\n",
    "                if wp[1].transform.location.distance(route[i][0].transform.location) < 10:\n",
    "                    angles_planned.append(angle)\n",
    "                else:\n",
    "                    all_angles.append(angle)\n",
    "    angles_planned = list(set(angles_planned))\n",
    "    all_angles = list(set(all_angles))\n",
    "    alternative_angles = [item for item in all_angles if item not in angles_planned] \n",
    "    if len(alternative_angles)== 0:\n",
    "        result = 0\n",
    "    elif min(angles_planned)<-25 and (min(alternative_angles) > min(angles_planned)):\n",
    "        #we are planningleft turn\n",
    "        result = -1\n",
    "    elif max(angles_planned)>25 and (max(alternative_angles) < max(angles_planned)):\n",
    "        result = 1\n",
    "    else:\n",
    "        result = 0 \n",
    "    print(result) "
   ]
  },
  {
   "cell_type": "code",
   "execution_count": 179,
   "metadata": {},
   "outputs": [
    {
     "name": "stdout",
     "output_type": "stream",
     "text": [
      "1\n",
      "70\n",
      "[-31, -28, 36, 31]\n",
      "[-31, -28]\n",
      "[36, 31]\n"
     ]
    }
   ],
   "source": [
    "print(result)\n",
    "print(intersection_ref)\n",
    "print(all_angles)\n",
    "print(alternative_angles)\n",
    "print(angles_planned)\n",
    "world.debug.draw_string(rte[intersection_ref][0].transform.location, '^', draw_shadow=False,\n",
    "    color=carla.Color(r=0, g=0, b=255), life_time=5.0,\n",
    "    persistent_lines=True)"
   ]
  },
  {
   "cell_type": "code",
   "execution_count": 175,
   "metadata": {},
   "outputs": [],
   "source": [
    "\n",
    "for waypoint in junction_wps:\n",
    "    #entry points\n",
    "    #world.debug.draw_string(waypoint[0].transform.location, '^', draw_shadow=False,\n",
    "    #    color=carla.Color(r=0, g=0, b=255), life_time=125.0,\n",
    "    #    persistent_lines=True)\n",
    "    #exit points\n",
    "    world.debug.draw_string(waypoint[1].transform.location, '^', draw_shadow=False,\n",
    "        color=carla.Color(r=255, g=0, b=0), life_time=60.0,\n",
    "        persistent_lines=True)"
   ]
  },
  {
   "cell_type": "code",
   "execution_count": null,
   "metadata": {},
   "outputs": [],
   "source": []
  }
 ],
 "metadata": {
  "kernelspec": {
   "display_name": "CarlaSim",
   "language": "python",
   "name": "carla-sim"
  },
  "language_info": {
   "codemirror_mode": {
    "name": "ipython",
    "version": 3
   },
   "file_extension": ".py",
   "mimetype": "text/x-python",
   "name": "python",
   "nbconvert_exporter": "python",
   "pygments_lexer": "ipython3",
   "version": "3.7.16"
  }
 },
 "nbformat": 4,
 "nbformat_minor": 4
}
