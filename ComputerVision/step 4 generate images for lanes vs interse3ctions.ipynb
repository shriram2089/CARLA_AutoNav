{
 "cells": [
  {
   "cell_type": "code",
   "execution_count": null,
   "metadata": {},
   "outputs": [],
   "source": [
    "'''\n",
    "This is to change image generation approach:\n",
    "\n",
    "1. Separate images and models should exist for:\n",
    " - intersections \n",
    " - normal lane following\n",
    " - lane changes\n",
    "'''"
   ]
  },
  {
   "cell_type": "code",
   "execution_count": 9,
   "metadata": {},
   "outputs": [
    {
     "name": "stdout",
     "output_type": "stream",
     "text": [
      "Loaded  Town03\n",
      "Doing route # 0  of  1  in town  Town03\n"
     ]
    },
    {
     "ename": "KeyboardInterrupt",
     "evalue": "",
     "output_type": "error",
     "traceback": [
      "\u001b[1;31m---------------------------------------------------------------------------\u001b[0m",
      "\u001b[1;31mKeyboardInterrupt\u001b[0m                         Traceback (most recent call last)",
      "\u001b[1;32m~\\AppData\\Local\\Temp\\ipykernel_5508\\1251172977.py\u001b[0m in \u001b[0;36m<module>\u001b[1;34m\u001b[0m\n\u001b[0;32m    225\u001b[0m                     \u001b[0mvehicle\u001b[0m\u001b[1;33m.\u001b[0m\u001b[0mset_transform\u001b[0m\u001b[1;33m(\u001b[0m\u001b[0mtrans\u001b[0m\u001b[1;33m)\u001b[0m\u001b[1;33m\u001b[0m\u001b[1;33m\u001b[0m\u001b[0m\n\u001b[0;32m    226\u001b[0m                     \u001b[0mvehicle\u001b[0m\u001b[1;33m.\u001b[0m\u001b[0mapply_control\u001b[0m\u001b[1;33m(\u001b[0m\u001b[0mcarla\u001b[0m\u001b[1;33m.\u001b[0m\u001b[0mVehicleControl\u001b[0m\u001b[1;33m(\u001b[0m\u001b[0mthrottle\u001b[0m\u001b[1;33m=\u001b[0m\u001b[1;36m0\u001b[0m\u001b[1;33m,\u001b[0m \u001b[0msteer\u001b[0m\u001b[1;33m=\u001b[0m\u001b[1;36m0\u001b[0m\u001b[1;33m,\u001b[0m \u001b[0mbrake\u001b[0m\u001b[1;33m=\u001b[0m\u001b[1;36m1\u001b[0m\u001b[1;33m)\u001b[0m\u001b[1;33m)\u001b[0m\u001b[1;33m\u001b[0m\u001b[1;33m\u001b[0m\u001b[0m\n\u001b[1;32m--> 227\u001b[1;33m                     \u001b[0mtime\u001b[0m\u001b[1;33m.\u001b[0m\u001b[0msleep\u001b[0m\u001b[1;33m(\u001b[0m\u001b[1;36m1\u001b[0m\u001b[1;33m)\u001b[0m  \u001b[1;31m#these delays seem to be necessary for the car to take the position before a shot is taken\u001b[0m\u001b[1;33m\u001b[0m\u001b[1;33m\u001b[0m\u001b[0m\n\u001b[0m\u001b[0;32m    228\u001b[0m \u001b[1;33m\u001b[0m\u001b[0m\n\u001b[0;32m    229\u001b[0m                     \u001b[1;31m# Display with imshow\u001b[0m\u001b[1;33m\u001b[0m\u001b[1;33m\u001b[0m\u001b[1;33m\u001b[0m\u001b[0m\n",
      "\u001b[1;31mKeyboardInterrupt\u001b[0m: "
     ]
    }
   ],
   "source": [
    "\n",
    "# THIS GETS ANGLES WRONG\n",
    "\n",
    "import carla #the sim library itself\n",
    "import time # to set a delay after each photo\n",
    "import cv2 #to work with images from cameras\n",
    "import numpy as np #in this example to change image representation - re-shaping\n",
    "import math\n",
    "import sys\n",
    "import random\n",
    "sys.path.append('C:/CARLA_0.9.13/PythonAPI/carla') # tweak to where you put carla\n",
    "from agents.navigation.global_route_planner import GlobalRoutePlanner\n",
    "\n",
    "NUM_CYCLES = 1  #number of routes to go through in each town\n",
    "\n",
    "SHOW_RGB = False\n",
    "\n",
    "CAMERA_POS_Z = 1.3 \n",
    "CAMERA_POS_X = 1.4 \n",
    "\n",
    "CAM_HEIGHT = 480\n",
    "CAM_WIDTH = 640\n",
    "FOV = 90 # field of view = focal length\n",
    "\n",
    "YAW_ADJ_DEGREES = 15 #random spin angle max\n",
    "\n",
    "def camera_callback(image,data_dict):\n",
    "    data_dict['image'] = np.reshape(np.copy(image.raw_data),(image.height,image.width,4))[:, :, :3]\n",
    "def sem_callback(image,data_dict):\n",
    "    ########## IMPORTANT CHANGE for Semantic camera ##############\n",
    "    image.convert(carla.ColorConverter.CityScapesPalette)\n",
    "    data_dict['sem_image'] = np.reshape(np.copy(image.raw_data),(image.height,image.width,4))[:, :, :3]\n",
    "\n",
    "def cleanup():\n",
    "    for actor in world.get_actors().filter('*vehicle*'):\n",
    "        actor.destroy()\n",
    "    for actor in world.get_actors().filter('*sensor*'):\n",
    "        actor.destroy()\n",
    "\n",
    "# function to get angle between the car and target waypoint\n",
    "def get_angle(car,wp):\n",
    "    '''\n",
    "    this function returns degrees between the car's direction \n",
    "    and direction to a selected waypoint\n",
    "    '''\n",
    "    vehicle_pos = car.get_transform()\n",
    "    car_x = vehicle_pos.location.x\n",
    "    car_y = vehicle_pos.location.y\n",
    "    wp_x = wp.transform.location.x\n",
    "    wp_y = wp.transform.location.y\n",
    "    \n",
    "    # vector to waypoint\n",
    "    if ((wp_y - car_y)**2 + (wp_x - car_x)**2)**0.5 == 0:\n",
    "        x=0\n",
    "        y=0\n",
    "    else:\n",
    "        x = (wp_x - car_x)/((wp_y - car_y)**2 + (wp_x - car_x)**2)**0.5\n",
    "        y = (wp_y - car_y)/((wp_y - car_y)**2 + (wp_x - car_x)**2)**0.5\n",
    "        \n",
    "    #car vector\n",
    "    car_vector = vehicle_pos.get_forward_vector()\n",
    "    degrees = math.degrees(np.arctan2(y, x) - np.arctan2(car_vector.y, car_vector.x))\n",
    "    # extra checks on predicted angle when values close to 360 degrees are returned\n",
    "    if degrees<-180:\n",
    "        degrees = degrees + 360\n",
    "    elif degrees > 180:\n",
    "        degrees = degrees - 360\n",
    "    return degrees\n",
    "\n",
    "\n",
    "def draw_route(wp, route,seconds=5.0):\n",
    "    #draw the next few points route in sim window - Note it does not\n",
    "    # get into the camera of the car\n",
    "    if len(route)-wp <25: # route within 25 points from end is red\n",
    "        draw_colour = carla.Color(r=255, g=0, b=0)\n",
    "    else:\n",
    "        draw_colour = carla.Color(r=0, g=0, b=255)\n",
    "    for i in range(50):\n",
    "        if wp+i<len(route)-2:\n",
    "            world.debug.draw_string(route[wp+i][0].transform.location, '^', draw_shadow=False,\n",
    "                color=draw_colour, life_time=seconds,\n",
    "                persistent_lines=True)\n",
    "    return None\n",
    "\n",
    "\n",
    "def select_random_route(position,locs):\n",
    "    '''\n",
    "    retruns a random route for the car/veh\n",
    "    out of the list of possible locations locs\n",
    "    where distance is longer than 100 waypoints\n",
    "    '''    \n",
    "    point_a = position.location #we start at where the car is or last waypoint\n",
    "    sampling_resolution = 1\n",
    "    grp = GlobalRoutePlanner(world.get_map(), sampling_resolution)\n",
    "    # now let' pick the longest possible route\n",
    "    min_distance = 100\n",
    "    result_route = None\n",
    "    route_list = []\n",
    "    for loc in locs: # we start trying all spawn points \n",
    "                                #but we just exclude first at zero index\n",
    "        cur_route = grp.trace_route(point_a, loc.location)\n",
    "        if len(cur_route) > min_distance:\n",
    "            route_list.append(cur_route)\n",
    "    result_route = random.choice(route_list)\n",
    "    return result_route\n",
    "\n",
    "client = carla.Client('localhost', 2000)\n",
    "time.sleep(5)\n",
    "client.set_timeout(25)\n",
    "\n",
    "towns = ['Town03','Town04','Town05','Town06','Town07','Town10']\n",
    "\n",
    "for town in towns:\n",
    "\n",
    "    client.load_world(town) \n",
    "    time.sleep(15)\n",
    "    print('Loaded ',town)\n",
    "    # get world and spawn points\n",
    "    world = client.get_world()\n",
    "\n",
    "    \n",
    "    settings = world.get_settings()\n",
    "    settings.synchronous_mode = False\n",
    "    settings.no_rendering_mode = False\n",
    "    if settings.synchronous_mode:\n",
    "        settings.fixed_delta_seconds = 0.05\n",
    "    world.apply_settings(settings)\n",
    "\n",
    "    cleanup()\n",
    "    spawn_points = world.get_map().get_spawn_points()\n",
    "\n",
    "    for cycle_count in range(NUM_CYCLES):\n",
    "        if cycle_count % 10 ==0:\n",
    "            print('...doing route #',cycle_count+1,' of ',NUM_CYCLES,' in town ',town)\n",
    "        start_point = random.choice(spawn_points)\n",
    "        vehicle_bp = world.get_blueprint_library().filter('*model3*')\n",
    "        vehicle = world.try_spawn_actor(vehicle_bp[0], start_point)\n",
    "        time.sleep(2)\n",
    "    \n",
    "        #RGB CAM\n",
    "        camera_bp = world.get_blueprint_library().find('sensor.camera.rgb')\n",
    "        camera_bp.set_attribute('image_size_x', str(CAM_WIDTH)) # this ratio works in CARLA 9.14 on Windows\n",
    "        camera_bp.set_attribute('image_size_y', str(CAM_HEIGHT))\n",
    "        camera_bp.set_attribute('fov', str(FOV))\n",
    "        camera_init_trans = carla.Transform(carla.Location(z=CAMERA_POS_Z,x=CAMERA_POS_X))\n",
    "        #this creates the camera in the sim\n",
    "        camera = world.spawn_actor(camera_bp,camera_init_trans,attach_to=vehicle)\n",
    "        image_w = camera_bp.get_attribute('image_size_x').as_int()\n",
    "        image_h = camera_bp.get_attribute('image_size_y').as_int()\n",
    "        camera_data = {'image': np.zeros((image_h,image_w,3)),\n",
    "                    'sem_image': np.zeros((image_h,image_w,3))}\n",
    "        # this actually opens a live stream from the camera\n",
    "        camera.listen(lambda image: camera_callback(image,camera_data))\n",
    "\n",
    "        #Semantgic cam\n",
    "        sem_camera_bp = world.get_blueprint_library().find('sensor.camera.semantic_segmentation')\n",
    "        sem_camera_bp.set_attribute('image_size_x', str(CAM_WIDTH)) # this ratio works in CARLA 9.14 on Windows\n",
    "        sem_camera_bp.set_attribute('image_size_y', str(CAM_HEIGHT))\n",
    "        sem_camera_bp.set_attribute('fov', str(FOV))\n",
    "        #this creates the camera in the sim\n",
    "        sem_camera = world.spawn_actor(sem_camera_bp,camera_init_trans,attach_to=vehicle)\n",
    "        image_w = sem_camera_bp.get_attribute('image_size_x').as_int()\n",
    "        image_h = sem_camera_bp.get_attribute('image_size_y').as_int()\n",
    "        sem_camera_data = {'image': np.zeros((image_h,image_w,3))}\n",
    "        # this actually opens a live stream from the camera\n",
    "        #sem_camera.listen(lambda image: camera_callback(image,sem_camera_data))\n",
    "        sem_camera.listen(lambda image: sem_callback(image,camera_data))\n",
    "\n",
    "        if SHOW_RGB:\n",
    "            cv2.namedWindow('RGB Camera',cv2.WINDOW_AUTOSIZE)\n",
    "            cv2.imshow('RGB Camera',camera_data['image'])\n",
    "        #make a route\n",
    "        route = select_random_route(start_point,spawn_points)\n",
    "        gen_dir_angle = 0 # in case we did not get a general GPS direction\n",
    "        for idx in range(len(route)-2):  # move the car through the route\n",
    "            waypoint = route[idx]\n",
    "            remaining_wp_count = len(route) - idx\n",
    "\n",
    "            transform = waypoint[0].transform\n",
    "            vehicle.set_transform(transform)\n",
    "            vehicle.apply_control(carla.VehicleControl(throttle=0, steer=0, brake=1))\n",
    "            time.sleep(2) #these delays seem to be necessary for teh car to take the position before a shot is taken\n",
    "            initial_yaw = waypoint[0].transform.rotation.yaw\n",
    "            \n",
    "            # logic to detect a lane change to flag them\n",
    "            draw_route(idx, route,seconds=5.0)\n",
    "            \n",
    "            lane_change = False\n",
    "            \n",
    "            if remaining_wp_count >2 and (route[idx+1][0].is_intersection or route[idx+1][0].is_junction):\n",
    "                angle_wp30 = get_angle(vehicle,route[idx+30][0])\n",
    "                if angle_wp30 > 15:\n",
    "                    gen_dir_angle = 1\n",
    "                elif angle_wp30 <-15:\n",
    "                    gen_dir_angle = -1\n",
    "                else:\n",
    "                    gen_dir_angle = 0\n",
    "            elif not waypoint[0].is_intersection and not waypoint[0].is_junction:\n",
    "                if remaining_wp_count > 2:\n",
    "                    if route[idx][0].lane_id != route[idx+1][0].lane_id:\n",
    "                        lane_change = True\n",
    "                if lane_change: # lane changes are treated as turns in general direction\n",
    "                    if get_angle(vehicle,route[idx+1][0])<0:\n",
    "                        gen_dir_angle = -1\n",
    "                    else:\n",
    "                        gen_dir_angle = 1\n",
    "            else:\n",
    "                gen_dir_angle =0\n",
    "\n",
    "             # this is different from previous version - we will specify image type so we can put it into the name of file\n",
    "            if remaining_wp_count >2 and route[idx+1][0].is_intersection or route[idx+1][0].is_junction:\n",
    "                image_type = 'I' # I for intersection\n",
    "            elif lane_change:\n",
    "                image_type = 'L' # L for lane change\n",
    "            else:\n",
    "                image_type = 'N' # for Normal lane following\n",
    "\n",
    "            # setting for intersections not to spin the car \n",
    "            if image_type !='I':\n",
    "                for i in range(5):\n",
    "                    trans = waypoint[0].transform\n",
    "                    angle_adj = random.randrange(-YAW_ADJ_DEGREES, YAW_ADJ_DEGREES, 1)\n",
    "                    if image_type == 'I':\n",
    "                        angle_adj =0 # for intersections we remove the impact of a spin\n",
    "                    trans.rotation.yaw = initial_yaw +angle_adj \n",
    "                    vehicle.set_transform(trans)\n",
    "                    vehicle.apply_control(carla.VehicleControl(throttle=0, steer=0, brake=1))\n",
    "                    time.sleep(1)  #these delays seem to be necessary for the car to take the position before a shot is taken\n",
    "                    \n",
    "                    # Display with imshow\n",
    "                    if SHOW_RGB:\n",
    "                        cv2.imshow('RGB Camera',camera_data['image'])\n",
    "                    # save semantic image watching out for end of route    \n",
    "                    if idx +5 < len(route)-1:\n",
    "                        predicted_angle = get_angle(vehicle,route[idx+5][0]) # we always get the angle to +5 waypoint ahead of us\n",
    "                        \n",
    "                        time_grab = time.time_ns()\n",
    "                        sem_image = camera_data['sem_image']\n",
    "                        if np.sum(sem_image) > 0:   #check for black images\n",
    "                            cv2.imwrite('_img_separated/%06d_%s_%s_%s.png' % (time_grab, gen_dir_angle,round(predicted_angle,0),image_type), sem_image)\n",
    "        cleanup()\n",
    "\n",
    "    cv2.destroyAllWindows()\n",
    "    cleanup()"
   ]
  },
  {
   "cell_type": "code",
   "execution_count": 8,
   "metadata": {},
   "outputs": [],
   "source": [
    "# checking a bug in Town 3 when car was turning right but direction was -1\n",
    "client = carla.Client('localhost', 2000)\n",
    "time.sleep(5)\n",
    "\n",
    "# get world and spawn points\n",
    "world = client.get_world()\n",
    "\n",
    "vehicle = world.get_actors().filter('*vehicle*')[0]\n"
   ]
  },
  {
   "cell_type": "code",
   "execution_count": 38,
   "metadata": {},
   "outputs": [],
   "source": [
    "# script to incrementally change car's position to locate it where you need for debugging\n",
    "old_pos = vehicle.get_transform()\n",
    "new_pos = carla.Transform(old_pos.location + carla.Location(x=0,y=3.3),\n",
    "                            carla.Rotation(yaw = old_pos.rotation.yaw + 0))\n",
    "vehicle.set_transform(new_pos)"
   ]
  },
  {
   "cell_type": "code",
   "execution_count": 5,
   "metadata": {},
   "outputs": [],
   "source": [
    "# select and draw a route quickly to confirm it goes where you want\n",
    "def draw_all_route(route,seconds=5.0):\n",
    "    #draw the next few points route in sim window - Note it does not\n",
    "    # get into the camera of the car\n",
    "    draw_colour = carla.Color(r=0, g=0, b=255)\n",
    "    for i in range(len(route)-1):\n",
    "        world.debug.draw_string(route[i][0].transform.location, '^', draw_shadow=False,\n",
    "            color=draw_colour, life_time=seconds,\n",
    "            persistent_lines=True)\n",
    "    return None\n",
    "\n",
    "#route = select_random_route(new_pos,world.get_map().get_spawn_points())\n",
    "draw_all_route(route,seconds=5.0)"
   ]
  },
  {
   "cell_type": "code",
   "execution_count": 28,
   "metadata": {},
   "outputs": [
    {
     "name": "stdout",
     "output_type": "stream",
     "text": [
      "0\n"
     ]
    }
   ],
   "source": [
    "print(get_distant_angle(vehicle,0,route,30))"
   ]
  },
  {
   "cell_type": "code",
   "execution_count": 50,
   "metadata": {},
   "outputs": [],
   "source": [
    "# debug get_distant_angle(car,wp_idx,rte, delta):\n",
    "'''\n",
    "This function determines general direction\n",
    "given what we are planning to do at an oncoming intersection\n",
    "so if we are within delta points from an intersection\n",
    "we check our route at the intersection to decide what we do at it\n",
    "'''\n",
    "\n",
    "# set up fuction's vars\n",
    "wp_idx = 0\n",
    "delta =30\n",
    "rte = route\n",
    "#### end setup vars\n",
    "\n",
    "\n",
    "if wp_idx + delta < len(rte)-1:\n",
    "    i = wp_idx + delta\n",
    "else:\n",
    "    i = len(rte)-1\n",
    "# check for intersection within the \"look forward\"\n",
    "# so we do not give turn results when just following the road\n",
    "intersection_detected = False\n",
    "for x in range(i-wp_idx):\n",
    "    if rte[wp_idx+x][0].is_junction:\n",
    "            intersection_detected = True\n",
    "            intersection_ref = wp_idx+x\n",
    "            break\n",
    "if not intersection_detected:\n",
    "    result = 0\n",
    "else: #we check out the intersection\n",
    "    angles_planned = [] # this is a list of angles towards current exit from the intersection\n",
    "    all_angles = []\n",
    "    #this is how to get all waypoints defining an intersection\n",
    "    junction_wps = rte[intersection_ref][0].get_junction().get_waypoints(carla.LaneType.Driving)\n",
    "    for wp in junction_wps:\n",
    "        angle = int(get_angle(vehicle,wp[1])) \n",
    "        #this 'if' below excludes close exits points to entry - exits for which you would need to take u-turns so they do not count\n",
    "        if wp[1].transform.location.distance(route[intersection_ref][0].transform.location) > 20: \n",
    "            # check all exits for proximity to our route so we can flag the exit we are planning to take\n",
    "            for i in range(intersection_ref,len(route)-1):\n",
    "                if wp[1].transform.location.distance(route[i][0].transform.location) < 5:\n",
    "                    angles_planned.append(angle)\n",
    "                else:\n",
    "                    all_angles.append(angle)\n",
    "    angles_planned = list(set(angles_planned))\n",
    "    all_angles = list(set(all_angles))\n",
    "    alternative_angles = [item for item in all_angles if item not in angles_planned] \n",
    "    if len(alternative_angles) == 0 or len(angles_planned) == 0:\n",
    "        result = 0\n",
    "    elif min(angles_planned)<-25 and (min(alternative_angles) > min(angles_planned)):\n",
    "        #we are planningleft turn\n",
    "        result = -1\n",
    "    elif max(angles_planned)>25 and (max(alternative_angles) < max(angles_planned)):\n",
    "        result = 1\n",
    "    else:\n",
    "        result = 0  \n"
   ]
  },
  {
   "cell_type": "code",
   "execution_count": 51,
   "metadata": {},
   "outputs": [
    {
     "name": "stdout",
     "output_type": "stream",
     "text": [
      "result:  0 , intersection_detected:  True , route length i:  915\n"
     ]
    }
   ],
   "source": [
    "print('result: ',result,\n",
    "      ', intersection_detected: ', intersection_detected,\n",
    "      ', route length i: ',i)"
   ]
  },
  {
   "cell_type": "code",
   "execution_count": 47,
   "metadata": {},
   "outputs": [],
   "source": [
    "draw_colour = carla.Color(r=0, g=0, b=255)\n",
    "for wp in junction_wps:\n",
    "    world.debug.draw_string(wp[1].transform.location, '^', draw_shadow=False,\n",
    "        color=draw_colour, life_time=10,\n",
    "        persistent_lines=True)\n"
   ]
  },
  {
   "cell_type": "code",
   "execution_count": 52,
   "metadata": {},
   "outputs": [
    {
     "data": {
      "text/plain": [
       "[]"
      ]
     },
     "execution_count": 52,
     "metadata": {},
     "output_type": "execute_result"
    }
   ],
   "source": [
    "angles_planned"
   ]
  },
  {
   "cell_type": "code",
   "execution_count": 49,
   "metadata": {},
   "outputs": [
    {
     "data": {
      "text/plain": [
       "[-45, -49]"
      ]
     },
     "execution_count": 49,
     "metadata": {},
     "output_type": "execute_result"
    }
   ],
   "source": [
    "all_angles"
   ]
  },
  {
   "cell_type": "code",
   "execution_count": 53,
   "metadata": {},
   "outputs": [
    {
     "data": {
      "text/plain": [
       "[-45, -49]"
      ]
     },
     "execution_count": 53,
     "metadata": {},
     "output_type": "execute_result"
    }
   ],
   "source": [
    "alternative_angles"
   ]
  },
  {
   "cell_type": "code",
   "execution_count": 56,
   "metadata": {},
   "outputs": [
    {
     "name": "stdout",
     "output_type": "stream",
     "text": [
      "59.964672919369455\n"
     ]
    }
   ],
   "source": [
    "print(get_angle(vehicle,route[40][0]))"
   ]
  },
  {
   "cell_type": "code",
   "execution_count": 59,
   "metadata": {},
   "outputs": [],
   "source": [
    "world.debug.draw_string(route[30][0].transform.location, '^', draw_shadow=False,\n",
    "    color=draw_colour, life_time=10,\n",
    "    persistent_lines=True)"
   ]
  },
  {
   "cell_type": "code",
   "execution_count": null,
   "metadata": {},
   "outputs": [],
   "source": [
    "''' \n",
    "outcome:\n",
    "change intersection approach to getting overall direction angle on approach\n",
    "keep that angle until off the intersection\n",
    "maintain -1, 0, 1 space\n",
    "\n",
    "'''"
   ]
  }
 ],
 "metadata": {
  "kernelspec": {
   "display_name": "sb3_13",
   "language": "python",
   "name": "python3"
  },
  "language_info": {
   "codemirror_mode": {
    "name": "ipython",
    "version": 3
   },
   "file_extension": ".py",
   "mimetype": "text/x-python",
   "name": "python",
   "nbconvert_exporter": "python",
   "pygments_lexer": "ipython3",
   "version": "3.7.15"
  },
  "orig_nbformat": 4
 },
 "nbformat": 4,
 "nbformat_minor": 2
}
