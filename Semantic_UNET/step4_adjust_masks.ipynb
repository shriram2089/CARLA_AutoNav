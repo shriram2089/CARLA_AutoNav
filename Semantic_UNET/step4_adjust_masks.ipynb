{
 "cells": [
  {
   "cell_type": "code",
   "execution_count": null,
   "id": "7deaa231",
   "metadata": {},
   "outputs": [],
   "source": [
    "'''\n",
    "This is to prepare semantically segmented images for training.\n",
    "Original ss images contain multiple colour labels for roads,\n",
    "lane, markings, cars, people etc.\n",
    "\n",
    "The purpose of this step is to create a single mask for each image.\n",
    "E.g. all lane markings and roads to combine together and be the \"True\"\n",
    "mask where any other colours would to to \"False\" or no mask\n",
    "\n",
    "It depends on what you are trying to identify in the images,\n",
    "\n",
    "Also trying simpler task with just one mask first\n",
    "'''"
   ]
  },
  {
   "cell_type": "code",
   "execution_count": 1,
   "id": "a5a406fa",
   "metadata": {
    "tags": []
   },
   "outputs": [],
   "source": [
    "import cv2\n",
    "import numpy as np"
   ]
  },
  {
   "cell_type": "code",
   "execution_count": 2,
   "id": "adffd1a0",
   "metadata": {
    "tags": []
   },
   "outputs": [],
   "source": [
    "#pick one image and show it\n",
    "test_img = cv2.imread(r'out_sem/sem/1719732617331866100.png')\n",
    "cv2.imshow('example',test_img)\n",
    "cv2.waitKey(0)\n",
    "cv2.destroyAllWindows()"
   ]
  },
  {
   "cell_type": "code",
   "execution_count": 4,
   "id": "b95d03ad",
   "metadata": {},
   "outputs": [
    {
     "data": {
      "text/plain": [
       "'\\nlooking for this colour rgb 128, 68, 128\\nred 128\\ngreen 68\\nblue 128\\n\\nexpecing cv2 to load image as B G R\\nso we expect 128 68 128 as 128 swapped around still givess the same value\\n'"
      ]
     },
     "execution_count": 4,
     "metadata": {},
     "output_type": "execute_result"
    }
   ],
   "source": [
    "'''\n",
    "looking for this colour rgb 128, 68, 128\n",
    "red 128\n",
    "green 68\n",
    "blue 128\n",
    "\n",
    "expecing cv2 to load image as B G R\n",
    "so we expect 128 68 128 as 128 swapped around still givess the same value\n",
    "'''"
   ]
  },
  {
   "cell_type": "code",
   "execution_count": 4,
   "id": "da5537cb",
   "metadata": {
    "tags": []
   },
   "outputs": [],
   "source": [
    "#road colour mask\n",
    "# first attempt - did not work - image came black - no colour picked up  untill i added dtype=... to upper and lower\n",
    "lower_colour = np.array([128,64,128],dtype='uint8')\n",
    "upper_colour = np.array([128,64,128],dtype='uint8')\n",
    "road_mask = cv2.inRange(test_img,lower_colour,upper_colour)\n",
    "cv2.imshow('road mask',road_mask)\n",
    "cv2.waitKey(0)  \n",
    "cv2.destroyAllWindows()\n",
    "\n"
   ]
  },
  {
   "cell_type": "code",
   "execution_count": 5,
   "id": "a97a9b9a",
   "metadata": {
    "tags": []
   },
   "outputs": [],
   "source": [
    "'''\n",
    "lane markings\n",
    "rgb 157, 234, 50  -> bgr 50,234,1570\n",
    "'''\n",
    "\n",
    "lower_colour = np.array([50,234,157],dtype='uint8')\n",
    "upper_colour = np.array([50,234,157],dtype='uint8')\n",
    "lane_mask = cv2.inRange(test_img,lower_colour,upper_colour)\n",
    "cv2.imshow('lanes mask',lane_mask)\n",
    "cv2.waitKey(0)\n",
    "cv2.destroyAllWindows()\n"
   ]
  },
  {
   "cell_type": "code",
   "execution_count": 6,
   "id": "6842f67f",
   "metadata": {
    "tags": []
   },
   "outputs": [],
   "source": [
    "# now combine both masks\n",
    "\n",
    "combined_mask = cv2.bitwise_or(road_mask,lane_mask)\n",
    "cv2.imshow('Combined mask',combined_mask)\n",
    "cv2.waitKey(0)\n",
    "cv2.destroyAllWindows()"
   ]
  },
  {
   "cell_type": "code",
   "execution_count": 9,
   "id": "91d7ba88",
   "metadata": {
    "tags": []
   },
   "outputs": [
    {
     "data": {
      "text/plain": [
       "True"
      ]
     },
     "execution_count": 9,
     "metadata": {},
     "output_type": "execute_result"
    }
   ],
   "source": [
    "# clean code for iterating over images\n",
    "img_name = '1719732617331866100'\n",
    "image = cv2.imread('out_sem/sem/'+img_name+'.png')\n",
    "lower_colour = np.array([128,64,128],dtype='uint8')\n",
    "upper_colour = np.array([128,64,128],dtype='uint8')\n",
    "road_mask = cv2.inRange(image,lower_colour,upper_colour)\n",
    "lower_colour = np.array([50,234,157],dtype='uint8')\n",
    "upper_colour = np.array([50,234,157],dtype='uint8')\n",
    "lane_mask = cv2.inRange(image,lower_colour,upper_colour)\n",
    "combined_mask = cv2.bitwise_or(road_mask,lane_mask)\n",
    "cv2.imwrite('out_sem/msk/'+img_name+'.png',combined_mask)"
   ]
  },
  {
   "cell_type": "code",
   "execution_count": 10,
   "id": "2514902a",
   "metadata": {
    "tags": []
   },
   "outputs": [],
   "source": [
    "# generate all masks - \n",
    "# this is ROAD OR LANE MARKING\n",
    "\n",
    "import os\n",
    "\n",
    "in_path = 'out_sem/sem'\n",
    "out_path = 'out_sem/msk'\n",
    "images = [f.split('.')[0] for f in os.listdir(in_path) if f.endswith(\".png\")]\n",
    "\n",
    "road_lower_colour = np.array([128,64,128],dtype='uint8')\n",
    "road_upper_colour = np.array([128,64,128],dtype='uint8')\n",
    "\n",
    "lane_lower_colour = np.array([50,234,157],dtype='uint8')\n",
    "lane_upper_colour = np.array([50,234,157],dtype='uint8')\n",
    "\n",
    "\n",
    "for example in images:\n",
    "    img_path = in_path+'/'+example+'.png'\n",
    "    image = cv2.imread(img_path)\n",
    "    road_mask = cv2.inRange(image,road_lower_colour,road_upper_colour)\n",
    "    lane_mask = cv2.inRange(image,lane_lower_colour,lane_upper_colour)\n",
    "    combined_mask = cv2.bitwise_or(road_mask,lane_mask)\n",
    "    cv2.imwrite(out_path+'/'+example+'.png',combined_mask)    "
   ]
  },
  {
   "cell_type": "code",
   "execution_count": null,
   "id": "d043dac4",
   "metadata": {},
   "outputs": [],
   "source": [
    "'''need: for roads without edge marking, create edge marking\n",
    "Loop through all pixels of the road colour rgb 128, 68, 128:\n",
    "\n",
    "when a neighbour (right or left) color one of curbs, edges, etc\n",
    " RGB values\n",
    " 180, 165, 180 1679213618266558700.png\n",
    " 244, 35, 232 present in 1679213637770789100.png\n",
    " 102, 102, 156 present in 1679213964177331800.png\n",
    " 145, 170, 100 present in 1679213676655760900.png\n",
    " 81, 0, 81 present in 1679213676655760900.png\n",
    "\n",
    "Important -\n",
    " - and is not car colour and \n",
    " - not people colour\n",
    " - not lane marking\n",
    "\n",
    "Then change the neighbour's colour to a new dedicated colour\n",
    "and change the neighbour+1 and + 2 and +3 colour too - in same direction as the neighbour\n",
    "\n",
    "the outcome - a think edge to the right or left from the road\n",
    "'''\n"
   ]
  },
  {
   "cell_type": "code",
   "execution_count": 11,
   "id": "da523217",
   "metadata": {
    "tags": []
   },
   "outputs": [],
   "source": [
    "# example - detect cases specified above\n",
    "# next - make a function to draw thick edges - 10-15 pixel wide\n",
    "\n",
    "import cv2\n",
    "import numpy as np\n",
    "\n",
    "\n",
    "in_path = 'out_sem/sem'\n",
    "example = '1719732617331866100'\n",
    "img_path = in_path+'/'+example+'.png'\n",
    "image = cv2.imread(img_path)\n",
    "\n",
    "road_colour = [[128, 64, 128],[128, 68, 128]]\n",
    "colour_search = [[156,102,102],[180,165,180],[232,35,244],[100,170,145],[81, 0, 81],[100, 100, 150]] # these are BGR\n",
    "replace_colour = [50,234,157]\n",
    "\n",
    "\n",
    "def is_colour(pxl,clr_lst):\n",
    "    result = False\n",
    "    for clr in clr_lst:\n",
    "        #print(clr, \"current pixel:\", pxl)\n",
    "        if (pxl[0] == clr[0]) and (pxl[1] == clr[1]) and (pxl[2] == clr[2]):\n",
    "            result = True\n",
    "    return result\n",
    "\n",
    "\n",
    "thickness=6  \n",
    "\n",
    "for y in range(image.shape[0]):\n",
    "    for x in range(image.shape[1]): #if this is a road pixel\n",
    "        if is_colour(image[y,x],road_colour):\n",
    "            # look left\n",
    "            if x>2 and is_colour(image[y,x-3],colour_search):\n",
    "                for pos in range(thickness):\n",
    "                    new_x = x - (pos+1)\n",
    "                    if new_x>= 0: \n",
    "                        image[y,new_x] = replace_colour\n",
    "                    \n",
    "            # Look right\n",
    "            if x<image.shape[1]-4 and is_colour(image[y,x+3],colour_search):\n",
    "                for pos in range(thickness):\n",
    "                    new_x = x + (pos+1)\n",
    "                    if new_x<image.shape[1]:\n",
    "                        image[y,new_x] = replace_colour\n",
    "                \n",
    "                \n",
    "\n",
    "cv2.imshow('Example',image)\n",
    "cv2.waitKey(0)\n",
    "cv2.destroyAllWindows()"
   ]
  },
  {
   "cell_type": "code",
   "execution_count": 12,
   "id": "78a6a934",
   "metadata": {
    "tags": []
   },
   "outputs": [
    {
     "data": {
      "text/plain": [
       "(480, 640, 3)"
      ]
     },
     "execution_count": 12,
     "metadata": {},
     "output_type": "execute_result"
    }
   ],
   "source": [
    "image.shape"
   ]
  },
  {
   "cell_type": "code",
   "execution_count": null,
   "id": "0e2747c9",
   "metadata": {
    "tags": []
   },
   "outputs": [],
   "source": [
    "# generate all additional lane marking\n",
    "\n",
    "import os\n",
    "\n",
    "in_path = 'out_sem/sem'\n",
    "out_path = 'out_sem/sem_ln'\n",
    "images = [f.split('.')[0] for f in os.listdir(in_path) if f.endswith(\".png\")]\n",
    "print(len(images))\n",
    "road_colour = [[128, 64, 128],[128, 68, 128]]\n",
    "colour_search = [[156,102,102],[180,165,180],[232,35,244],[100,170,145],[81, 0, 81],[100, 100, 150]] # these are BGR\n",
    "replace_colour = [50,234,157]\n",
    "\n",
    "thickness=6  \n",
    "\n",
    "def is_colour(pxl,clr_lst):\n",
    "    result = False\n",
    "    for clr in clr_lst:\n",
    "        #print(clr, \"current pixel:\", pxl)\n",
    "        if (pxl[0] == clr[0]) and (pxl[1] == clr[1]) and (pxl[2] == clr[2]):\n",
    "            result = True\n",
    "    return result\n",
    "i=1\n",
    "\n",
    "for example in images[845::]:\n",
    "    print(i)\n",
    "    i+=1\n",
    "    img_path = in_path+'/'+example+'.png'\n",
    "    image = cv2.imread(img_path)\n",
    "\n",
    "    for y in range(image.shape[0]):\n",
    "        for x in range(image.shape[1]): #if this is a road pixel\n",
    "            if is_colour(image[y,x],road_colour):\n",
    "                # look left\n",
    "                if x>2 and is_colour(image[y,x-3],colour_search):\n",
    "                    for pos in range(thickness):\n",
    "                        new_x = x - (pos+1)\n",
    "                        if new_x>= 0: \n",
    "                            image[y,new_x] = replace_colour\n",
    "\n",
    "                # Look right\n",
    "                if x<image.shape[1]-4 and is_colour(image[y,x+3],colour_search):\n",
    "                    for pos in range(thickness):\n",
    "                        new_x = x + (pos+1)\n",
    "                        if new_x<image.shape[1]:\n",
    "                            image[y,new_x] = replace_colour\n",
    "    \n",
    "    \n",
    "    cv2.imwrite(out_path+'/'+example+'.png',image)    "
   ]
  },
  {
   "cell_type": "code",
   "execution_count": 3,
   "id": "d9ef4dcc",
   "metadata": {
    "tags": []
   },
   "outputs": [
    {
     "name": "stdout",
     "output_type": "stream",
     "text": [
      "1975\n"
     ]
    }
   ],
   "source": [
    "# generate all masks - \n",
    "# this is just LANE MARKING masks\n",
    "\n",
    "import os\n",
    "import cv2\n",
    "import numpy as np\n",
    "\n",
    "in_path = 'out_sem/sem_ln'\n",
    "out_path = 'out_sem/msk_ln'\n",
    "\n",
    "images = [f.split('.')[0] for f in os.listdir(in_path) if f.endswith(\".png\")]\n",
    "\n",
    "print(len(images))\n",
    "lane_lower_colour = np.array([50,234,157],dtype='uint8')\n",
    "lane_upper_colour = np.array([50,234,157],dtype='uint8')\n",
    "\n",
    "i=0\n",
    "for example in images:\n",
    "    #print(i)\n",
    "    #i+=1\n",
    "    img_path = in_path+'/'+example+'.png'\n",
    "    image = cv2.imread(img_path)\n",
    "    lane_mask = cv2.inRange(image,lane_lower_colour,lane_upper_colour)\n",
    "    cv2.imwrite(out_path+'/'+example+'.png',lane_mask)    "
   ]
  },
  {
   "cell_type": "code",
   "execution_count": null,
   "id": "ed22e941",
   "metadata": {},
   "outputs": [],
   "source": []
  }
 ],
 "metadata": {
  "kernelspec": {
   "display_name": "CarlaSim",
   "language": "python",
   "name": "carla-sim"
  },
  "language_info": {
   "codemirror_mode": {
    "name": "ipython",
    "version": 3
   },
   "file_extension": ".py",
   "mimetype": "text/x-python",
   "name": "python",
   "nbconvert_exporter": "python",
   "pygments_lexer": "ipython3",
   "version": "3.7.16"
  }
 },
 "nbformat": 4,
 "nbformat_minor": 5
}
